{
 "cells": [
  {
   "cell_type": "markdown",
   "metadata": {},
   "source": [
    "### Things To Consider"
   ]
  },
  {
   "cell_type": "markdown",
   "metadata": {},
   "source": [
    "#### Other Regression Techniques \n",
    "Try out more algorithms and compare their performances with what we have done. Read up more on the pros and cons of using the different models and when are they more applicable.\n",
    "\n",
    "* Bayesian Linear Regression\n",
    "* Least Angle Regression\n",
    "* Huber Regression"
   ]
  },
  {
   "cell_type": "markdown",
   "metadata": {},
   "source": [
    "#### Other Scaling Methods\n",
    "Understand the use cases of different scalers and compare the results.\n",
    "\n",
    "* Min-Max Scaler\n",
    "* RobustScaler\n",
    "* Normalize"
   ]
  },
  {
   "cell_type": "markdown",
   "metadata": {},
   "source": [
    "#### Importing Libraries"
   ]
  },
  {
   "cell_type": "code",
   "execution_count": 162,
   "metadata": {},
   "outputs": [],
   "source": [
    "# Standard Libraries\n",
    "from scipy import stats\n",
    "import pandas as pd\n",
    "import numpy as np\n",
    "import pickle\n",
    "import time\n",
    "\n",
    "# Visualisation\n",
    "import matplotlib.pyplot as plt \n",
    "import seaborn as sns\n",
    "from matplotlib.offsetbox import AnchoredText\n",
    "%matplotlib inline\n",
    "%config InlineBackend.figure_format = 'retina' # higher resolution plots\n",
    "\n",
    "# Machine Learning\n",
    "from sklearn.preprocessing import StandardScaler\n",
    "from sklearn.metrics import mean_squared_error\n",
    "from sklearn.pipeline import Pipeline\n",
    "\n",
    "from sklearn.model_selection import train_test_split, cross_val_score, KFold, GridSearchCV\n",
    "from sklearn.linear_model import LinearRegression, Ridge, RidgeCV, Lasso, LassoCV, ElasticNet, BayesianRidge, LassoLars\n",
    "\n",
    "# Misc\n",
    "pd.set_option('display.max_rows', 100)\n",
    "pd.set_option('display.max_columns', 100)\n",
    "import warnings\n",
    "warnings.filterwarnings('ignore')\n",
    "\n",
    "# Random State #\n",
    "SEED = 8888"
   ]
  },
  {
   "cell_type": "markdown",
   "metadata": {},
   "source": [
    "#### Loading Our Data"
   ]
  },
  {
   "cell_type": "code",
   "execution_count": 2,
   "metadata": {},
   "outputs": [],
   "source": [
    "with open('cleaned_dataset.pickle', 'rb') as f:\n",
    "    df = pickle.load(f)"
   ]
  },
  {
   "cell_type": "code",
   "execution_count": 3,
   "metadata": {},
   "outputs": [
    {
     "data": {
      "text/html": [
       "<div>\n",
       "<style scoped>\n",
       "    .dataframe tbody tr th:only-of-type {\n",
       "        vertical-align: middle;\n",
       "    }\n",
       "\n",
       "    .dataframe tbody tr th {\n",
       "        vertical-align: top;\n",
       "    }\n",
       "\n",
       "    .dataframe thead th {\n",
       "        text-align: right;\n",
       "    }\n",
       "</style>\n",
       "<table border=\"1\" class=\"dataframe\">\n",
       "  <thead>\n",
       "    <tr style=\"text-align: right;\">\n",
       "      <th></th>\n",
       "      <th>LotShape</th>\n",
       "      <th>LandSlope</th>\n",
       "      <th>OverallQual</th>\n",
       "      <th>OverallCond</th>\n",
       "      <th>YearBuilt</th>\n",
       "      <th>RoofStyle</th>\n",
       "      <th>ExterQual</th>\n",
       "      <th>ExterCond</th>\n",
       "      <th>BsmtQual</th>\n",
       "      <th>BsmtCond</th>\n",
       "      <th>BsmtExposure</th>\n",
       "      <th>BsmtFinType1</th>\n",
       "      <th>BsmtFinType2</th>\n",
       "      <th>BsmtUnfSF</th>\n",
       "      <th>TotalBsmtSF</th>\n",
       "      <th>HeatingQC</th>\n",
       "      <th>CentralAir</th>\n",
       "      <th>Electrical</th>\n",
       "      <th>BsmtFullBath</th>\n",
       "      <th>BsmtHalfBath</th>\n",
       "      <th>FullBath</th>\n",
       "      <th>HalfBath</th>\n",
       "      <th>BedroomAbvGr</th>\n",
       "      <th>KitchenAbvGr</th>\n",
       "      <th>KitchenQual</th>\n",
       "      <th>TotRmsAbvGrd</th>\n",
       "      <th>Functional</th>\n",
       "      <th>FireplaceQu</th>\n",
       "      <th>GarageFinish</th>\n",
       "      <th>GarageCars</th>\n",
       "      <th>GarageQual</th>\n",
       "      <th>PavedDrive</th>\n",
       "      <th>YrSold</th>\n",
       "      <th>LogSalePrice</th>\n",
       "      <th>LogLotFrontage</th>\n",
       "      <th>LogLotArea</th>\n",
       "      <th>LogFirstFlrSF</th>\n",
       "      <th>LogGroundArea</th>\n",
       "      <th>MSSubClass_SC160</th>\n",
       "      <th>MSSubClass_SC180</th>\n",
       "      <th>MSSubClass_SC190</th>\n",
       "      <th>MSSubClass_SC20</th>\n",
       "      <th>MSSubClass_SC30</th>\n",
       "      <th>MSSubClass_SC40</th>\n",
       "      <th>MSSubClass_SC45</th>\n",
       "      <th>MSSubClass_SC50</th>\n",
       "      <th>MSSubClass_SC60</th>\n",
       "      <th>MSSubClass_SC70</th>\n",
       "      <th>MSSubClass_SC75</th>\n",
       "      <th>MSSubClass_SC80</th>\n",
       "      <th>...</th>\n",
       "      <th>Exterior2nd_Plywood</th>\n",
       "      <th>Exterior2nd_Stucco</th>\n",
       "      <th>Exterior2nd_VinylSd</th>\n",
       "      <th>Exterior2nd_Wd Sdng</th>\n",
       "      <th>Exterior2nd_Wd Shng</th>\n",
       "      <th>MasVnrType_BrkFace</th>\n",
       "      <th>MasVnrType_None</th>\n",
       "      <th>MasVnrType_Stone</th>\n",
       "      <th>MasVnrArea_VnrArea_Small</th>\n",
       "      <th>MasVnrArea_VnrArea_Medium</th>\n",
       "      <th>MasVnrArea_VnrArea_Large</th>\n",
       "      <th>Foundation_CBlock</th>\n",
       "      <th>Foundation_Other</th>\n",
       "      <th>Foundation_PConc</th>\n",
       "      <th>BsmtFinSF1_BsmtSF_Small</th>\n",
       "      <th>BsmtFinSF1_BsmtSF_Medium</th>\n",
       "      <th>BsmtFinSF1_BsmtSF_Large</th>\n",
       "      <th>BsmtFinSF1_BsmtSF_ExtraLarge</th>\n",
       "      <th>2ndFlrSF_SecondFlr_Small</th>\n",
       "      <th>2ndFlrSF_SecondFlr_Medium</th>\n",
       "      <th>2ndFlrSF_SecondFlr_Large</th>\n",
       "      <th>2ndFlrSF_SecondFlr_ExtraLarge</th>\n",
       "      <th>GarageType_BuiltIn</th>\n",
       "      <th>GarageType_Detchd</th>\n",
       "      <th>GarageType_NoGarage</th>\n",
       "      <th>GarageType_Other</th>\n",
       "      <th>WoodDeckSF_WoodDeckSF_Small</th>\n",
       "      <th>WoodDeckSF_WoodDeckSF_Medium</th>\n",
       "      <th>WoodDeckSF_WoodDeckSF_Large</th>\n",
       "      <th>Fence_GdWo</th>\n",
       "      <th>Fence_MnPrv</th>\n",
       "      <th>Fence_MnWw</th>\n",
       "      <th>Fence_NoFence</th>\n",
       "      <th>MoSold_Aug</th>\n",
       "      <th>MoSold_Dec</th>\n",
       "      <th>MoSold_Feb</th>\n",
       "      <th>MoSold_Jan</th>\n",
       "      <th>MoSold_Jul</th>\n",
       "      <th>MoSold_Jun</th>\n",
       "      <th>MoSold_Mar</th>\n",
       "      <th>MoSold_May</th>\n",
       "      <th>MoSold_Nov</th>\n",
       "      <th>MoSold_Oct</th>\n",
       "      <th>MoSold_Sep</th>\n",
       "      <th>SaleType_New</th>\n",
       "      <th>SaleType_Other</th>\n",
       "      <th>SaleType_WD</th>\n",
       "      <th>SaleCondition_Normal</th>\n",
       "      <th>SaleCondition_Other</th>\n",
       "      <th>SaleCondition_Partial</th>\n",
       "    </tr>\n",
       "  </thead>\n",
       "  <tbody>\n",
       "    <tr>\n",
       "      <th>0</th>\n",
       "      <td>0</td>\n",
       "      <td>0</td>\n",
       "      <td>7</td>\n",
       "      <td>5</td>\n",
       "      <td>2003</td>\n",
       "      <td>0</td>\n",
       "      <td>4</td>\n",
       "      <td>3</td>\n",
       "      <td>4</td>\n",
       "      <td>3</td>\n",
       "      <td>1</td>\n",
       "      <td>6</td>\n",
       "      <td>1</td>\n",
       "      <td>150</td>\n",
       "      <td>856</td>\n",
       "      <td>5</td>\n",
       "      <td>1</td>\n",
       "      <td>1</td>\n",
       "      <td>1</td>\n",
       "      <td>0</td>\n",
       "      <td>2</td>\n",
       "      <td>1</td>\n",
       "      <td>3</td>\n",
       "      <td>1</td>\n",
       "      <td>4</td>\n",
       "      <td>8</td>\n",
       "      <td>1</td>\n",
       "      <td>0</td>\n",
       "      <td>2</td>\n",
       "      <td>2</td>\n",
       "      <td>3</td>\n",
       "      <td>1.0</td>\n",
       "      <td>2008</td>\n",
       "      <td>12.247699</td>\n",
       "      <td>4.189655</td>\n",
       "      <td>9.042040</td>\n",
       "      <td>6.753438</td>\n",
       "      <td>7.444249</td>\n",
       "      <td>0</td>\n",
       "      <td>0</td>\n",
       "      <td>0</td>\n",
       "      <td>0</td>\n",
       "      <td>0</td>\n",
       "      <td>0</td>\n",
       "      <td>0</td>\n",
       "      <td>0</td>\n",
       "      <td>1</td>\n",
       "      <td>0</td>\n",
       "      <td>0</td>\n",
       "      <td>0</td>\n",
       "      <td>...</td>\n",
       "      <td>0</td>\n",
       "      <td>0</td>\n",
       "      <td>1</td>\n",
       "      <td>0</td>\n",
       "      <td>0</td>\n",
       "      <td>1</td>\n",
       "      <td>0</td>\n",
       "      <td>0</td>\n",
       "      <td>1</td>\n",
       "      <td>0</td>\n",
       "      <td>0</td>\n",
       "      <td>0</td>\n",
       "      <td>0</td>\n",
       "      <td>1</td>\n",
       "      <td>0</td>\n",
       "      <td>1</td>\n",
       "      <td>0</td>\n",
       "      <td>0</td>\n",
       "      <td>0</td>\n",
       "      <td>1</td>\n",
       "      <td>0</td>\n",
       "      <td>0</td>\n",
       "      <td>0</td>\n",
       "      <td>0</td>\n",
       "      <td>0</td>\n",
       "      <td>0</td>\n",
       "      <td>0</td>\n",
       "      <td>0</td>\n",
       "      <td>0</td>\n",
       "      <td>0</td>\n",
       "      <td>0</td>\n",
       "      <td>0</td>\n",
       "      <td>1</td>\n",
       "      <td>0</td>\n",
       "      <td>0</td>\n",
       "      <td>1</td>\n",
       "      <td>0</td>\n",
       "      <td>0</td>\n",
       "      <td>0</td>\n",
       "      <td>0</td>\n",
       "      <td>0</td>\n",
       "      <td>0</td>\n",
       "      <td>0</td>\n",
       "      <td>0</td>\n",
       "      <td>0</td>\n",
       "      <td>0</td>\n",
       "      <td>1</td>\n",
       "      <td>1</td>\n",
       "      <td>0</td>\n",
       "      <td>0</td>\n",
       "    </tr>\n",
       "    <tr>\n",
       "      <th>1</th>\n",
       "      <td>0</td>\n",
       "      <td>0</td>\n",
       "      <td>6</td>\n",
       "      <td>8</td>\n",
       "      <td>1976</td>\n",
       "      <td>0</td>\n",
       "      <td>3</td>\n",
       "      <td>3</td>\n",
       "      <td>4</td>\n",
       "      <td>3</td>\n",
       "      <td>4</td>\n",
       "      <td>5</td>\n",
       "      <td>1</td>\n",
       "      <td>284</td>\n",
       "      <td>1262</td>\n",
       "      <td>5</td>\n",
       "      <td>1</td>\n",
       "      <td>1</td>\n",
       "      <td>0</td>\n",
       "      <td>1</td>\n",
       "      <td>2</td>\n",
       "      <td>0</td>\n",
       "      <td>3</td>\n",
       "      <td>1</td>\n",
       "      <td>3</td>\n",
       "      <td>6</td>\n",
       "      <td>1</td>\n",
       "      <td>3</td>\n",
       "      <td>2</td>\n",
       "      <td>2</td>\n",
       "      <td>3</td>\n",
       "      <td>1.0</td>\n",
       "      <td>2007</td>\n",
       "      <td>12.109016</td>\n",
       "      <td>4.394449</td>\n",
       "      <td>9.169623</td>\n",
       "      <td>7.141245</td>\n",
       "      <td>7.140453</td>\n",
       "      <td>0</td>\n",
       "      <td>0</td>\n",
       "      <td>0</td>\n",
       "      <td>1</td>\n",
       "      <td>0</td>\n",
       "      <td>0</td>\n",
       "      <td>0</td>\n",
       "      <td>0</td>\n",
       "      <td>0</td>\n",
       "      <td>0</td>\n",
       "      <td>0</td>\n",
       "      <td>0</td>\n",
       "      <td>...</td>\n",
       "      <td>0</td>\n",
       "      <td>0</td>\n",
       "      <td>0</td>\n",
       "      <td>0</td>\n",
       "      <td>0</td>\n",
       "      <td>0</td>\n",
       "      <td>1</td>\n",
       "      <td>0</td>\n",
       "      <td>0</td>\n",
       "      <td>0</td>\n",
       "      <td>0</td>\n",
       "      <td>1</td>\n",
       "      <td>0</td>\n",
       "      <td>0</td>\n",
       "      <td>0</td>\n",
       "      <td>1</td>\n",
       "      <td>0</td>\n",
       "      <td>0</td>\n",
       "      <td>0</td>\n",
       "      <td>0</td>\n",
       "      <td>0</td>\n",
       "      <td>0</td>\n",
       "      <td>0</td>\n",
       "      <td>0</td>\n",
       "      <td>0</td>\n",
       "      <td>0</td>\n",
       "      <td>0</td>\n",
       "      <td>1</td>\n",
       "      <td>0</td>\n",
       "      <td>0</td>\n",
       "      <td>0</td>\n",
       "      <td>0</td>\n",
       "      <td>1</td>\n",
       "      <td>0</td>\n",
       "      <td>0</td>\n",
       "      <td>0</td>\n",
       "      <td>0</td>\n",
       "      <td>0</td>\n",
       "      <td>0</td>\n",
       "      <td>0</td>\n",
       "      <td>1</td>\n",
       "      <td>0</td>\n",
       "      <td>0</td>\n",
       "      <td>0</td>\n",
       "      <td>0</td>\n",
       "      <td>0</td>\n",
       "      <td>1</td>\n",
       "      <td>1</td>\n",
       "      <td>0</td>\n",
       "      <td>0</td>\n",
       "    </tr>\n",
       "    <tr>\n",
       "      <th>2</th>\n",
       "      <td>1</td>\n",
       "      <td>0</td>\n",
       "      <td>7</td>\n",
       "      <td>5</td>\n",
       "      <td>2001</td>\n",
       "      <td>0</td>\n",
       "      <td>4</td>\n",
       "      <td>3</td>\n",
       "      <td>4</td>\n",
       "      <td>3</td>\n",
       "      <td>2</td>\n",
       "      <td>6</td>\n",
       "      <td>1</td>\n",
       "      <td>434</td>\n",
       "      <td>920</td>\n",
       "      <td>5</td>\n",
       "      <td>1</td>\n",
       "      <td>1</td>\n",
       "      <td>1</td>\n",
       "      <td>0</td>\n",
       "      <td>2</td>\n",
       "      <td>1</td>\n",
       "      <td>3</td>\n",
       "      <td>1</td>\n",
       "      <td>4</td>\n",
       "      <td>6</td>\n",
       "      <td>1</td>\n",
       "      <td>3</td>\n",
       "      <td>2</td>\n",
       "      <td>2</td>\n",
       "      <td>3</td>\n",
       "      <td>1.0</td>\n",
       "      <td>2008</td>\n",
       "      <td>12.317171</td>\n",
       "      <td>4.234107</td>\n",
       "      <td>9.328212</td>\n",
       "      <td>6.825460</td>\n",
       "      <td>7.487734</td>\n",
       "      <td>0</td>\n",
       "      <td>0</td>\n",
       "      <td>0</td>\n",
       "      <td>0</td>\n",
       "      <td>0</td>\n",
       "      <td>0</td>\n",
       "      <td>0</td>\n",
       "      <td>0</td>\n",
       "      <td>1</td>\n",
       "      <td>0</td>\n",
       "      <td>0</td>\n",
       "      <td>0</td>\n",
       "      <td>...</td>\n",
       "      <td>0</td>\n",
       "      <td>0</td>\n",
       "      <td>1</td>\n",
       "      <td>0</td>\n",
       "      <td>0</td>\n",
       "      <td>1</td>\n",
       "      <td>0</td>\n",
       "      <td>0</td>\n",
       "      <td>1</td>\n",
       "      <td>0</td>\n",
       "      <td>0</td>\n",
       "      <td>0</td>\n",
       "      <td>0</td>\n",
       "      <td>1</td>\n",
       "      <td>1</td>\n",
       "      <td>0</td>\n",
       "      <td>0</td>\n",
       "      <td>0</td>\n",
       "      <td>0</td>\n",
       "      <td>1</td>\n",
       "      <td>0</td>\n",
       "      <td>0</td>\n",
       "      <td>0</td>\n",
       "      <td>0</td>\n",
       "      <td>0</td>\n",
       "      <td>0</td>\n",
       "      <td>0</td>\n",
       "      <td>0</td>\n",
       "      <td>0</td>\n",
       "      <td>0</td>\n",
       "      <td>0</td>\n",
       "      <td>0</td>\n",
       "      <td>1</td>\n",
       "      <td>0</td>\n",
       "      <td>0</td>\n",
       "      <td>0</td>\n",
       "      <td>0</td>\n",
       "      <td>0</td>\n",
       "      <td>0</td>\n",
       "      <td>0</td>\n",
       "      <td>0</td>\n",
       "      <td>0</td>\n",
       "      <td>0</td>\n",
       "      <td>1</td>\n",
       "      <td>0</td>\n",
       "      <td>0</td>\n",
       "      <td>1</td>\n",
       "      <td>1</td>\n",
       "      <td>0</td>\n",
       "      <td>0</td>\n",
       "    </tr>\n",
       "    <tr>\n",
       "      <th>3</th>\n",
       "      <td>1</td>\n",
       "      <td>0</td>\n",
       "      <td>7</td>\n",
       "      <td>5</td>\n",
       "      <td>1915</td>\n",
       "      <td>0</td>\n",
       "      <td>3</td>\n",
       "      <td>3</td>\n",
       "      <td>3</td>\n",
       "      <td>4</td>\n",
       "      <td>1</td>\n",
       "      <td>5</td>\n",
       "      <td>1</td>\n",
       "      <td>540</td>\n",
       "      <td>756</td>\n",
       "      <td>4</td>\n",
       "      <td>1</td>\n",
       "      <td>1</td>\n",
       "      <td>1</td>\n",
       "      <td>0</td>\n",
       "      <td>1</td>\n",
       "      <td>0</td>\n",
       "      <td>3</td>\n",
       "      <td>1</td>\n",
       "      <td>4</td>\n",
       "      <td>7</td>\n",
       "      <td>1</td>\n",
       "      <td>4</td>\n",
       "      <td>1</td>\n",
       "      <td>3</td>\n",
       "      <td>3</td>\n",
       "      <td>1.0</td>\n",
       "      <td>2006</td>\n",
       "      <td>11.849405</td>\n",
       "      <td>4.110874</td>\n",
       "      <td>9.164401</td>\n",
       "      <td>6.869014</td>\n",
       "      <td>7.448334</td>\n",
       "      <td>0</td>\n",
       "      <td>0</td>\n",
       "      <td>0</td>\n",
       "      <td>0</td>\n",
       "      <td>0</td>\n",
       "      <td>0</td>\n",
       "      <td>0</td>\n",
       "      <td>0</td>\n",
       "      <td>0</td>\n",
       "      <td>1</td>\n",
       "      <td>0</td>\n",
       "      <td>0</td>\n",
       "      <td>...</td>\n",
       "      <td>0</td>\n",
       "      <td>0</td>\n",
       "      <td>0</td>\n",
       "      <td>0</td>\n",
       "      <td>1</td>\n",
       "      <td>0</td>\n",
       "      <td>1</td>\n",
       "      <td>0</td>\n",
       "      <td>0</td>\n",
       "      <td>0</td>\n",
       "      <td>0</td>\n",
       "      <td>0</td>\n",
       "      <td>0</td>\n",
       "      <td>0</td>\n",
       "      <td>1</td>\n",
       "      <td>0</td>\n",
       "      <td>0</td>\n",
       "      <td>0</td>\n",
       "      <td>0</td>\n",
       "      <td>1</td>\n",
       "      <td>0</td>\n",
       "      <td>0</td>\n",
       "      <td>0</td>\n",
       "      <td>1</td>\n",
       "      <td>0</td>\n",
       "      <td>0</td>\n",
       "      <td>0</td>\n",
       "      <td>0</td>\n",
       "      <td>0</td>\n",
       "      <td>0</td>\n",
       "      <td>0</td>\n",
       "      <td>0</td>\n",
       "      <td>1</td>\n",
       "      <td>0</td>\n",
       "      <td>0</td>\n",
       "      <td>1</td>\n",
       "      <td>0</td>\n",
       "      <td>0</td>\n",
       "      <td>0</td>\n",
       "      <td>0</td>\n",
       "      <td>0</td>\n",
       "      <td>0</td>\n",
       "      <td>0</td>\n",
       "      <td>0</td>\n",
       "      <td>0</td>\n",
       "      <td>0</td>\n",
       "      <td>1</td>\n",
       "      <td>0</td>\n",
       "      <td>0</td>\n",
       "      <td>0</td>\n",
       "    </tr>\n",
       "    <tr>\n",
       "      <th>4</th>\n",
       "      <td>1</td>\n",
       "      <td>0</td>\n",
       "      <td>8</td>\n",
       "      <td>5</td>\n",
       "      <td>2000</td>\n",
       "      <td>0</td>\n",
       "      <td>4</td>\n",
       "      <td>3</td>\n",
       "      <td>4</td>\n",
       "      <td>3</td>\n",
       "      <td>3</td>\n",
       "      <td>6</td>\n",
       "      <td>1</td>\n",
       "      <td>490</td>\n",
       "      <td>1145</td>\n",
       "      <td>5</td>\n",
       "      <td>1</td>\n",
       "      <td>1</td>\n",
       "      <td>1</td>\n",
       "      <td>0</td>\n",
       "      <td>2</td>\n",
       "      <td>1</td>\n",
       "      <td>4</td>\n",
       "      <td>1</td>\n",
       "      <td>4</td>\n",
       "      <td>9</td>\n",
       "      <td>1</td>\n",
       "      <td>3</td>\n",
       "      <td>2</td>\n",
       "      <td>3</td>\n",
       "      <td>3</td>\n",
       "      <td>1.0</td>\n",
       "      <td>2008</td>\n",
       "      <td>12.429220</td>\n",
       "      <td>4.442651</td>\n",
       "      <td>9.565284</td>\n",
       "      <td>7.044033</td>\n",
       "      <td>7.695303</td>\n",
       "      <td>0</td>\n",
       "      <td>0</td>\n",
       "      <td>0</td>\n",
       "      <td>0</td>\n",
       "      <td>0</td>\n",
       "      <td>0</td>\n",
       "      <td>0</td>\n",
       "      <td>0</td>\n",
       "      <td>1</td>\n",
       "      <td>0</td>\n",
       "      <td>0</td>\n",
       "      <td>0</td>\n",
       "      <td>...</td>\n",
       "      <td>0</td>\n",
       "      <td>0</td>\n",
       "      <td>1</td>\n",
       "      <td>0</td>\n",
       "      <td>0</td>\n",
       "      <td>1</td>\n",
       "      <td>0</td>\n",
       "      <td>0</td>\n",
       "      <td>1</td>\n",
       "      <td>0</td>\n",
       "      <td>0</td>\n",
       "      <td>0</td>\n",
       "      <td>0</td>\n",
       "      <td>1</td>\n",
       "      <td>0</td>\n",
       "      <td>1</td>\n",
       "      <td>0</td>\n",
       "      <td>0</td>\n",
       "      <td>0</td>\n",
       "      <td>0</td>\n",
       "      <td>1</td>\n",
       "      <td>0</td>\n",
       "      <td>0</td>\n",
       "      <td>0</td>\n",
       "      <td>0</td>\n",
       "      <td>0</td>\n",
       "      <td>1</td>\n",
       "      <td>0</td>\n",
       "      <td>0</td>\n",
       "      <td>0</td>\n",
       "      <td>0</td>\n",
       "      <td>0</td>\n",
       "      <td>1</td>\n",
       "      <td>0</td>\n",
       "      <td>1</td>\n",
       "      <td>0</td>\n",
       "      <td>0</td>\n",
       "      <td>0</td>\n",
       "      <td>0</td>\n",
       "      <td>0</td>\n",
       "      <td>0</td>\n",
       "      <td>0</td>\n",
       "      <td>0</td>\n",
       "      <td>0</td>\n",
       "      <td>0</td>\n",
       "      <td>0</td>\n",
       "      <td>1</td>\n",
       "      <td>1</td>\n",
       "      <td>0</td>\n",
       "      <td>0</td>\n",
       "    </tr>\n",
       "  </tbody>\n",
       "</table>\n",
       "<p>5 rows × 167 columns</p>\n",
       "</div>"
      ],
      "text/plain": [
       "   LotShape  LandSlope  OverallQual  OverallCond  YearBuilt  RoofStyle  \\\n",
       "0         0          0            7            5       2003          0   \n",
       "1         0          0            6            8       1976          0   \n",
       "2         1          0            7            5       2001          0   \n",
       "3         1          0            7            5       1915          0   \n",
       "4         1          0            8            5       2000          0   \n",
       "\n",
       "   ExterQual  ExterCond  BsmtQual  BsmtCond  BsmtExposure  BsmtFinType1  \\\n",
       "0          4          3         4         3             1             6   \n",
       "1          3          3         4         3             4             5   \n",
       "2          4          3         4         3             2             6   \n",
       "3          3          3         3         4             1             5   \n",
       "4          4          3         4         3             3             6   \n",
       "\n",
       "   BsmtFinType2  BsmtUnfSF  TotalBsmtSF  HeatingQC  CentralAir  Electrical  \\\n",
       "0             1        150          856          5           1           1   \n",
       "1             1        284         1262          5           1           1   \n",
       "2             1        434          920          5           1           1   \n",
       "3             1        540          756          4           1           1   \n",
       "4             1        490         1145          5           1           1   \n",
       "\n",
       "   BsmtFullBath  BsmtHalfBath  FullBath  HalfBath  BedroomAbvGr  KitchenAbvGr  \\\n",
       "0             1             0         2         1             3             1   \n",
       "1             0             1         2         0             3             1   \n",
       "2             1             0         2         1             3             1   \n",
       "3             1             0         1         0             3             1   \n",
       "4             1             0         2         1             4             1   \n",
       "\n",
       "   KitchenQual  TotRmsAbvGrd  Functional  FireplaceQu  GarageFinish  \\\n",
       "0            4             8           1            0             2   \n",
       "1            3             6           1            3             2   \n",
       "2            4             6           1            3             2   \n",
       "3            4             7           1            4             1   \n",
       "4            4             9           1            3             2   \n",
       "\n",
       "   GarageCars  GarageQual  PavedDrive  YrSold  LogSalePrice  LogLotFrontage  \\\n",
       "0           2           3         1.0    2008     12.247699        4.189655   \n",
       "1           2           3         1.0    2007     12.109016        4.394449   \n",
       "2           2           3         1.0    2008     12.317171        4.234107   \n",
       "3           3           3         1.0    2006     11.849405        4.110874   \n",
       "4           3           3         1.0    2008     12.429220        4.442651   \n",
       "\n",
       "   LogLotArea  LogFirstFlrSF  LogGroundArea  MSSubClass_SC160  \\\n",
       "0    9.042040       6.753438       7.444249                 0   \n",
       "1    9.169623       7.141245       7.140453                 0   \n",
       "2    9.328212       6.825460       7.487734                 0   \n",
       "3    9.164401       6.869014       7.448334                 0   \n",
       "4    9.565284       7.044033       7.695303                 0   \n",
       "\n",
       "   MSSubClass_SC180  MSSubClass_SC190  MSSubClass_SC20  MSSubClass_SC30  \\\n",
       "0                 0                 0                0                0   \n",
       "1                 0                 0                1                0   \n",
       "2                 0                 0                0                0   \n",
       "3                 0                 0                0                0   \n",
       "4                 0                 0                0                0   \n",
       "\n",
       "   MSSubClass_SC40  MSSubClass_SC45  MSSubClass_SC50  MSSubClass_SC60  \\\n",
       "0                0                0                0                1   \n",
       "1                0                0                0                0   \n",
       "2                0                0                0                1   \n",
       "3                0                0                0                0   \n",
       "4                0                0                0                1   \n",
       "\n",
       "   MSSubClass_SC70  MSSubClass_SC75  MSSubClass_SC80  ...  \\\n",
       "0                0                0                0  ...   \n",
       "1                0                0                0  ...   \n",
       "2                0                0                0  ...   \n",
       "3                1                0                0  ...   \n",
       "4                0                0                0  ...   \n",
       "\n",
       "   Exterior2nd_Plywood  Exterior2nd_Stucco  Exterior2nd_VinylSd  \\\n",
       "0                    0                   0                    1   \n",
       "1                    0                   0                    0   \n",
       "2                    0                   0                    1   \n",
       "3                    0                   0                    0   \n",
       "4                    0                   0                    1   \n",
       "\n",
       "   Exterior2nd_Wd Sdng  Exterior2nd_Wd Shng  MasVnrType_BrkFace  \\\n",
       "0                    0                    0                   1   \n",
       "1                    0                    0                   0   \n",
       "2                    0                    0                   1   \n",
       "3                    0                    1                   0   \n",
       "4                    0                    0                   1   \n",
       "\n",
       "   MasVnrType_None  MasVnrType_Stone  MasVnrArea_VnrArea_Small  \\\n",
       "0                0                 0                         1   \n",
       "1                1                 0                         0   \n",
       "2                0                 0                         1   \n",
       "3                1                 0                         0   \n",
       "4                0                 0                         1   \n",
       "\n",
       "   MasVnrArea_VnrArea_Medium  MasVnrArea_VnrArea_Large  Foundation_CBlock  \\\n",
       "0                          0                         0                  0   \n",
       "1                          0                         0                  1   \n",
       "2                          0                         0                  0   \n",
       "3                          0                         0                  0   \n",
       "4                          0                         0                  0   \n",
       "\n",
       "   Foundation_Other  Foundation_PConc  BsmtFinSF1_BsmtSF_Small  \\\n",
       "0                 0                 1                        0   \n",
       "1                 0                 0                        0   \n",
       "2                 0                 1                        1   \n",
       "3                 0                 0                        1   \n",
       "4                 0                 1                        0   \n",
       "\n",
       "   BsmtFinSF1_BsmtSF_Medium  BsmtFinSF1_BsmtSF_Large  \\\n",
       "0                         1                        0   \n",
       "1                         1                        0   \n",
       "2                         0                        0   \n",
       "3                         0                        0   \n",
       "4                         1                        0   \n",
       "\n",
       "   BsmtFinSF1_BsmtSF_ExtraLarge  2ndFlrSF_SecondFlr_Small  \\\n",
       "0                             0                         0   \n",
       "1                             0                         0   \n",
       "2                             0                         0   \n",
       "3                             0                         0   \n",
       "4                             0                         0   \n",
       "\n",
       "   2ndFlrSF_SecondFlr_Medium  2ndFlrSF_SecondFlr_Large  \\\n",
       "0                          1                         0   \n",
       "1                          0                         0   \n",
       "2                          1                         0   \n",
       "3                          1                         0   \n",
       "4                          0                         1   \n",
       "\n",
       "   2ndFlrSF_SecondFlr_ExtraLarge  GarageType_BuiltIn  GarageType_Detchd  \\\n",
       "0                              0                   0                  0   \n",
       "1                              0                   0                  0   \n",
       "2                              0                   0                  0   \n",
       "3                              0                   0                  1   \n",
       "4                              0                   0                  0   \n",
       "\n",
       "   GarageType_NoGarage  GarageType_Other  WoodDeckSF_WoodDeckSF_Small  \\\n",
       "0                    0                 0                            0   \n",
       "1                    0                 0                            0   \n",
       "2                    0                 0                            0   \n",
       "3                    0                 0                            0   \n",
       "4                    0                 0                            1   \n",
       "\n",
       "   WoodDeckSF_WoodDeckSF_Medium  WoodDeckSF_WoodDeckSF_Large  Fence_GdWo  \\\n",
       "0                             0                            0           0   \n",
       "1                             1                            0           0   \n",
       "2                             0                            0           0   \n",
       "3                             0                            0           0   \n",
       "4                             0                            0           0   \n",
       "\n",
       "   Fence_MnPrv  Fence_MnWw  Fence_NoFence  MoSold_Aug  MoSold_Dec  MoSold_Feb  \\\n",
       "0            0           0              1           0           0           1   \n",
       "1            0           0              1           0           0           0   \n",
       "2            0           0              1           0           0           0   \n",
       "3            0           0              1           0           0           1   \n",
       "4            0           0              1           0           1           0   \n",
       "\n",
       "   MoSold_Jan  MoSold_Jul  MoSold_Jun  MoSold_Mar  MoSold_May  MoSold_Nov  \\\n",
       "0           0           0           0           0           0           0   \n",
       "1           0           0           0           0           1           0   \n",
       "2           0           0           0           0           0           0   \n",
       "3           0           0           0           0           0           0   \n",
       "4           0           0           0           0           0           0   \n",
       "\n",
       "   MoSold_Oct  MoSold_Sep  SaleType_New  SaleType_Other  SaleType_WD  \\\n",
       "0           0           0             0               0            1   \n",
       "1           0           0             0               0            1   \n",
       "2           0           1             0               0            1   \n",
       "3           0           0             0               0            1   \n",
       "4           0           0             0               0            1   \n",
       "\n",
       "   SaleCondition_Normal  SaleCondition_Other  SaleCondition_Partial  \n",
       "0                     1                    0                      0  \n",
       "1                     1                    0                      0  \n",
       "2                     1                    0                      0  \n",
       "3                     0                    0                      0  \n",
       "4                     1                    0                      0  \n",
       "\n",
       "[5 rows x 167 columns]"
      ]
     },
     "execution_count": 3,
     "metadata": {},
     "output_type": "execute_result"
    }
   ],
   "source": [
    "df.head()"
   ]
  },
  {
   "cell_type": "markdown",
   "metadata": {},
   "source": [
    "#### Splitting our Dataset"
   ]
  },
  {
   "cell_type": "code",
   "execution_count": 4,
   "metadata": {},
   "outputs": [],
   "source": [
    "X = df.drop('LogSalePrice', axis=1)\n",
    "y = df.LogSalePrice"
   ]
  },
  {
   "cell_type": "code",
   "execution_count": 5,
   "metadata": {},
   "outputs": [],
   "source": [
    "X_train, X_valid, y_train, y_valid = train_test_split(X ,y, test_size=0.2, random_state=SEED)"
   ]
  },
  {
   "cell_type": "markdown",
   "metadata": {},
   "source": [
    "#### Defining Functions"
   ]
  },
  {
   "cell_type": "code",
   "execution_count": 6,
   "metadata": {},
   "outputs": [],
   "source": [
    "def adj_r_square(X, model_r2):\n",
    "    '''\n",
    "    Calculates the adjusted R-Square of the model.\n",
    "    \n",
    "    :params:\n",
    "        X (array): Array of independent variables' values.\n",
    "        model_r2 (float): R-Square of the model fitted on the same array x as the independent variables.\n",
    "        \n",
    "    :returns:\n",
    "        adj_r2 (float): Adjusted R-Square of the model fitted. \n",
    "        \n",
    "    '''\n",
    "    n = X[:].size # Number of observations #\n",
    "    k = X[0].size # Number of parameters # \n",
    "    adj_r2 = 1 - (1-model_r2) * ((n-1)/(n-k-1))\n",
    "    \n",
    "    return adj_r2"
   ]
  },
  {
   "cell_type": "code",
   "execution_count": 7,
   "metadata": {},
   "outputs": [],
   "source": [
    "def kfold_linear_model(X, y, cv=5):\n",
    "    '''\n",
    "    Function that performs cross validation and returns the RMSE of the training and validation datasets.\n",
    "    \n",
    "    :returns:\n",
    "        training_rmse : List of training RMSE scores.\n",
    "        validation_rmse : List of validation RMSE scores.\n",
    "        \n",
    "    '''\n",
    "    # Lists to store our results\n",
    "    training_rmse = []\n",
    "    validation_rmse = []\n",
    "    \n",
    "    training_r2 = []\n",
    "    validation_r2 = []\n",
    "    \n",
    "    training_adj_r2 = []\n",
    "    validation_adj_r2 = []\n",
    "    \n",
    "    # Converting data into ndarrays\n",
    "    X = np.array(X)\n",
    "    y = np.array(y)\n",
    "    \n",
    "    model = LinearRegression(fit_intercept=True, n_jobs=-1)\n",
    "    \n",
    "    kf = KFold(n_splits=cv, shuffle=True, random_state=SEED)\n",
    "    \n",
    "    for train_index, valid_index in kf.split(X, y):\n",
    "        X_train, y_train = X[train_index], y[train_index]\n",
    "        X_valid, y_valid = X[valid_index], y[valid_index]\n",
    "        \n",
    "        model.fit(X_train, y_train)\n",
    "        \n",
    "        # Saving RMSE\n",
    "        train_resid = y_train - model.predict(X_train)\n",
    "        train_rmse = np.sqrt(np.mean(train_resid**2))\n",
    "        training_rmse.append(train_rmse)\n",
    "        \n",
    "        valid_resid = y_valid - model.predict(X_valid)\n",
    "        valid_rmse = np.sqrt(np.mean(valid_resid**2))\n",
    "        validation_rmse.append(valid_rmse)\n",
    "        \n",
    "        # Saving R Squared\n",
    "        train_r_squared = model.score(X_train, y_train)\n",
    "        training_r2.append(train_r_squared)\n",
    "        \n",
    "        valid_r_squared = model.score(X_valid, y_valid)\n",
    "        validation_r2.append(valid_r_squared)\n",
    "        \n",
    "        # Saving Adjusted R Squared\n",
    "        training_adj_r2.append(adj_r_square(X_train, train_r_squared))\n",
    "        validation_adj_r2.append(adj_r_square(X_valid, valid_r_squared))\n",
    "    \n",
    "    RMSE = {'Training' : training_rmse,\n",
    "            'Validation' : validation_rmse}\n",
    "    \n",
    "    R_Squared = {'Training' : training_r2,\n",
    "                 'Validation' : validation_r2}\n",
    "    \n",
    "    Adj_R_Squared = {'Training' : training_adj_r2,\n",
    "                     'Validation' : validation_adj_r2}\n",
    "    \n",
    "    return RMSE, R_Squared, Adj_R_Squared"
   ]
  },
  {
   "cell_type": "code",
   "execution_count": 30,
   "metadata": {},
   "outputs": [],
   "source": [
    "def kfold_lasso_model(X, y, optimal_alpha, cv=5):\n",
    "    '''\n",
    "    Function that performs cross validation and returns the RMSE of the training and validation datasets.\n",
    "    \n",
    "    :returns:\n",
    "        training_rmse : List of training RMSE scores.\n",
    "        validation_rmse : List of validation RMSE scores.\n",
    "        \n",
    "    '''\n",
    "    # Lists to store our results\n",
    "    training_rmse = []\n",
    "    validation_rmse = []\n",
    "    \n",
    "    training_r2 = []\n",
    "    validation_r2 = []\n",
    "    \n",
    "    training_adj_r2 = []\n",
    "    validation_adj_r2 = []\n",
    "    \n",
    "    # Converting data into ndarrays\n",
    "    X = np.array(X)\n",
    "    y = np.array(y)\n",
    "    \n",
    "    model = Pipeline(steps=[('Standardise', StandardScaler()),\n",
    "                            ('Lasso', Lasso(alpha=optimal_alpha, random_state=SEED))\n",
    "                           ])\n",
    "    \n",
    "    kf = KFold(n_splits=cv, shuffle=True, random_state=SEED)\n",
    "    \n",
    "    for train_index, valid_index in kf.split(X, y):\n",
    "        X_train, y_train = X[train_index], y[train_index]\n",
    "        X_valid, y_valid = X[valid_index], y[valid_index]\n",
    "        \n",
    "        model.fit(X_train, y_train)\n",
    "        \n",
    "        # Saving RMSE\n",
    "        train_resid = y_train - model.predict(X_train)\n",
    "        train_rmse = np.sqrt(np.mean(train_resid**2))\n",
    "        training_rmse.append(train_rmse)\n",
    "        \n",
    "        valid_resid = y_valid - model.predict(X_valid)\n",
    "        valid_rmse = np.sqrt(np.mean(valid_resid**2))\n",
    "        validation_rmse.append(valid_rmse)\n",
    "        \n",
    "        # Saving R Squared\n",
    "        train_r_squared = model.score(X_train, y_train)\n",
    "        training_r2.append(train_r_squared)\n",
    "        \n",
    "        valid_r_squared = model.score(X_valid, y_valid)\n",
    "        validation_r2.append(valid_r_squared)\n",
    "        \n",
    "        # Saving Adjusted R Squared\n",
    "        training_adj_r2.append(adj_r_square(X_train, train_r_squared))\n",
    "        validation_adj_r2.append(adj_r_square(X_valid, valid_r_squared))\n",
    "    \n",
    "    RMSE = {'Training' : training_rmse,\n",
    "            'Validation' : validation_rmse}\n",
    "    \n",
    "    R_Squared = {'Training' : training_r2,\n",
    "                 'Validation' : validation_r2}\n",
    "    \n",
    "    Adj_R_Squared = {'Training' : training_adj_r2,\n",
    "                     'Validation' : validation_adj_r2}\n",
    "    \n",
    "    return RMSE, R_Squared, Adj_R_Squared"
   ]
  },
  {
   "cell_type": "code",
   "execution_count": 286,
   "metadata": {},
   "outputs": [],
   "source": [
    "def kfold_ridge_model(X, y, optimal_alpha, cv=5):\n",
    "    '''\n",
    "    Function that performs cross validation and returns the RMSE of the training and validation datasets.\n",
    "    \n",
    "    :returns:\n",
    "        training_rmse : List of training RMSE scores.\n",
    "        validation_rmse : List of validation RMSE scores.\n",
    "        \n",
    "    '''\n",
    "    # Lists to store our results\n",
    "    training_rmse = []\n",
    "    validation_rmse = []\n",
    "    \n",
    "    training_r2 = []\n",
    "    validation_r2 = []\n",
    "    \n",
    "    training_adj_r2 = []\n",
    "    validation_adj_r2 = []\n",
    "    \n",
    "    # Converting data into ndarrays\n",
    "    X = np.array(X)\n",
    "    y = np.array(y)\n",
    "    \n",
    "    model = Pipeline(steps=[('Standardise', StandardScaler()),\n",
    "                            ('Ridge', Ridge(alpha=optimal_alpha))\n",
    "                           ])\n",
    "    \n",
    "    kf = KFold(n_splits=cv, shuffle=True, random_state=SEED)\n",
    "    \n",
    "    for train_index, valid_index in kf.split(X, y):\n",
    "        X_train, y_train = X[train_index], y[train_index]\n",
    "        X_valid, y_valid = X[valid_index], y[valid_index]\n",
    "        \n",
    "        model.fit(X_train, y_train)\n",
    "        \n",
    "        # Saving RMSE\n",
    "        train_resid = y_train - model.predict(X_train)\n",
    "        train_rmse = np.sqrt(np.mean(train_resid**2))\n",
    "        training_rmse.append(train_rmse)\n",
    "        \n",
    "        valid_resid = y_valid - model.predict(X_valid)\n",
    "        valid_rmse = np.sqrt(np.mean(valid_resid**2))\n",
    "        validation_rmse.append(valid_rmse)\n",
    "        \n",
    "        # Saving R Squared\n",
    "        train_r_squared = model.score(X_train, y_train)\n",
    "        training_r2.append(train_r_squared)\n",
    "        \n",
    "        valid_r_squared = model.score(X_valid, y_valid)\n",
    "        validation_r2.append(valid_r_squared)\n",
    "        \n",
    "        # Saving Adjusted R Squared\n",
    "        training_adj_r2.append(adj_r_square(X_train, train_r_squared))\n",
    "        validation_adj_r2.append(adj_r_square(X_valid, valid_r_squared))\n",
    "    \n",
    "    RMSE = {'Training' : training_rmse,\n",
    "            'Validation' : validation_rmse}\n",
    "    \n",
    "    R_Squared = {'Training' : training_r2,\n",
    "                 'Validation' : validation_r2}\n",
    "    \n",
    "    Adj_R_Squared = {'Training' : training_adj_r2,\n",
    "                     'Validation' : validation_adj_r2}\n",
    "    \n",
    "    return RMSE, R_Squared, Adj_R_Squared"
   ]
  },
  {
   "cell_type": "code",
   "execution_count": 38,
   "metadata": {},
   "outputs": [],
   "source": [
    "def model_results_summary(RMSE, R_Squared, Adj_R_Squared, model_type):\n",
    "    print(' '*13, '{} Results Summary'.format(model_type))\n",
    "    print('=' * 61)\n",
    "    print('\\t'*2,'Mean RMSE', '\\t', 'Mean R^2', '\\t', 'Mean Adj R^2')\n",
    "    \n",
    "    print('Training',\n",
    "          '\\t', '{:.4f}'.format(np.mean(RMSE['Training'])),\n",
    "          '\\t', '{:.4f}'.format(np.mean(R_Squared['Training'])),\n",
    "          '\\t', '{:.4f}'.format(np.mean(Adj_R_Squared['Training'])))\n",
    "    \n",
    "    print('Validation',\n",
    "          '\\t','{:.4f}'.format(np.mean(RMSE['Validation'])),\n",
    "          '\\t', '{:.4f}'.format(np.mean(R_Squared['Validation'])),\n",
    "          '\\t', '{:.4f}'.format(np.mean(Adj_R_Squared['Validation'])))"
   ]
  },
  {
   "cell_type": "code",
   "execution_count": 9,
   "metadata": {},
   "outputs": [],
   "source": [
    "def lasso_alpha_plots(alphas, X_train, y_train, X_valid, y_valid, fig_size=(6,6), return_series=False):\n",
    "    '''\n",
    "    Function that plots the RMSEs of the training and validation datasets across different alpha values for Lasso Regression.\n",
    "    \n",
    "    :params:\n",
    "        alphas : Vector of different alpha values to try. \n",
    "        \n",
    "    '''\n",
    "    rmse_training = []\n",
    "    rmse_validation = []\n",
    "    \n",
    "    for alpha in alphas:\n",
    "        lasso_pipe = Pipeline(steps=[('Standardise', StandardScaler()),\n",
    "                                     ('Lasso', Lasso(alpha=alpha, random_state=SEED))\n",
    "                                    ])\n",
    "        model = lasso_pipe.fit(X_train, y_train)\n",
    "        \n",
    "        resid_train = y_train - model.predict(X_train)\n",
    "        rmse_train = np.sqrt(np.mean(resid_train**2))\n",
    "        rmse_training.append(rmse_train)\n",
    "        \n",
    "        resid_valid = y_valid - model.predict(X_valid)\n",
    "        rmse_valid = np.sqrt(np.mean(resid_valid**2))\n",
    "        rmse_validation.append(rmse_valid)\n",
    "        \n",
    "    rmse_training = pd.Series(rmse_training, index=alphas)\n",
    "    rmse_validation = pd.Series(rmse_validation, index=alphas)\n",
    "\n",
    "    # Plotting the RMSE Scores \n",
    "    plt.figure(figsize=fig_size)\n",
    "    plt.title('Training and Validation RMSE over different Alphas')\n",
    "    \n",
    "    training_ax = rmse_training.plot(color='blue', grid=True, label='Training RMSE')\n",
    "    validation_ax = rmse_validation.plot(color='red', grid=True, label='Validation RMSE')\n",
    "    \n",
    "    plt.legend(loc='center right')\n",
    "    plt.show()\n",
    "    \n",
    "    if return_series:\n",
    "        return rmse_training, rmse_validation"
   ]
  },
  {
   "cell_type": "code",
   "execution_count": 293,
   "metadata": {},
   "outputs": [],
   "source": [
    "def ridge_alpha_plots(alphas, X_train, y_train, X_valid, y_valid, fig_size=(6,6), return_series=False):\n",
    "    '''\n",
    "    Function that plots the RMSEs of the training and validation datasets across different alpha values for Ridge Regression.\n",
    "    \n",
    "    :params:\n",
    "        alphas : Vector of different alpha values to try. \n",
    "        \n",
    "    '''\n",
    "    rmse_training = []\n",
    "    rmse_validation = []\n",
    "    \n",
    "    for alpha in alphas:\n",
    "        ridge_pipe = Pipeline(steps=[('Standardise', StandardScaler()),\n",
    "                                     ('Ridge', Ridge(alpha=alpha, random_state=SEED))\n",
    "                                    ])\n",
    "        model = ridge_pipe.fit(X_train, y_train)\n",
    "        \n",
    "        resid_train = y_train - model.predict(X_train)\n",
    "        rmse_train = np.sqrt(np.mean(resid_train**2))\n",
    "        rmse_training.append(rmse_train)\n",
    "        \n",
    "        resid_valid = y_valid - model.predict(X_valid)\n",
    "        rmse_valid = np.sqrt(np.mean(resid_valid**2))\n",
    "        rmse_validation.append(rmse_valid)\n",
    "        \n",
    "    rmse_training = pd.Series(rmse_training, index=alphas)\n",
    "    rmse_validation = pd.Series(rmse_validation, index=alphas)\n",
    "\n",
    "    # Plotting the RMSE Scores \n",
    "    plt.figure(figsize=fig_size)\n",
    "    plt.title('Training and Validation RMSE over different Alphas')\n",
    "    \n",
    "    training_ax = rmse_training.plot(color='blue', grid=True, label='Training RMSE')\n",
    "    validation_ax = rmse_validation.plot(color='red', grid=True, label='Validation RMSE')\n",
    "    \n",
    "    plt.legend(loc='center right')\n",
    "    plt.show()\n",
    "    \n",
    "    if return_series:\n",
    "        return rmse_training, rmse_validation"
   ]
  },
  {
   "cell_type": "markdown",
   "metadata": {},
   "source": [
    "### Base Model : Linear Regression"
   ]
  },
  {
   "cell_type": "code",
   "execution_count": 11,
   "metadata": {},
   "outputs": [],
   "source": [
    "linreg_rmse, linreg_score, linreg_adj_score = kfold_linear_model(X_train, y_train)"
   ]
  },
  {
   "cell_type": "code",
   "execution_count": 39,
   "metadata": {},
   "outputs": [
    {
     "name": "stdout",
     "output_type": "stream",
     "text": [
      "              Linear Regression Results Summary\n",
      "=============================================================\n",
      "\t\t Mean RMSE \t Mean R^2 \t Mean Adj R^2\n",
      "Training \t 0.1019 \t 0.9359 \t 0.9358\n",
      "Validation \t 0.1450 \t 0.8685 \t 0.8679\n"
     ]
    }
   ],
   "source": [
    "model_results_summary(linreg_rmse, linreg_score, linreg_adj_score, model_type='Linear Regression')"
   ]
  },
  {
   "cell_type": "code",
   "execution_count": 13,
   "metadata": {},
   "outputs": [
    {
     "data": {
      "text/plain": [
       "{'Training': [0.1008946096268675,\n",
       "  0.09797858399427398,\n",
       "  0.10276900824988268,\n",
       "  0.10366291991688917,\n",
       "  0.1044260954104371],\n",
       " 'Validation': [0.14436562326348357,\n",
       "  0.18311836604946116,\n",
       "  0.12987548753316855,\n",
       "  0.13050226259988285,\n",
       "  0.13715430534578923]}"
      ]
     },
     "execution_count": 13,
     "metadata": {},
     "output_type": "execute_result"
    }
   ],
   "source": [
    "linreg_rmse"
   ]
  },
  {
   "cell_type": "code",
   "execution_count": 14,
   "metadata": {},
   "outputs": [
    {
     "data": {
      "text/plain": [
       "{'Training': [0.9375904961833754,\n",
       "  0.9398631364096985,\n",
       "  0.9357432071047574,\n",
       "  0.9332682550582917,\n",
       "  0.9329683648614795],\n",
       " 'Validation': [0.8684550370658175,\n",
       "  0.8047564835492986,\n",
       "  0.8899693305489523,\n",
       "  0.8977084693298999,\n",
       "  0.8814661944480229]}"
      ]
     },
     "execution_count": 14,
     "metadata": {},
     "output_type": "execute_result"
    }
   ],
   "source": [
    "linreg_score"
   ]
  },
  {
   "cell_type": "code",
   "execution_count": 15,
   "metadata": {},
   "outputs": [
    {
     "data": {
      "text/plain": [
       "{'Training': [0.9375231715777804,\n",
       "  0.9397982634276151,\n",
       "  0.9356738897256098,\n",
       "  0.9331962678106112,\n",
       "  0.9328960541055512],\n",
       " 'Validation': [0.8678855635008919,\n",
       "  0.8039112514791248,\n",
       "  0.8894929948825323,\n",
       "  0.8972656373024847,\n",
       "  0.8809530477086402]}"
      ]
     },
     "execution_count": 15,
     "metadata": {},
     "output_type": "execute_result"
    }
   ],
   "source": [
    "linreg_adj_score"
   ]
  },
  {
   "cell_type": "markdown",
   "metadata": {},
   "source": [
    "### Lassso Regression Model"
   ]
  },
  {
   "cell_type": "markdown",
   "metadata": {},
   "source": [
    "#### Investigating how RMSE changes as Alpha changes"
   ]
  },
  {
   "cell_type": "code",
   "execution_count": 16,
   "metadata": {},
   "outputs": [],
   "source": [
    "alpha_vector = 10**np.linspace(-3,2,100)"
   ]
  },
  {
   "cell_type": "code",
   "execution_count": 17,
   "metadata": {},
   "outputs": [
    {
     "data": {
      "image/png": "[encoded data removed]",
      "text/plain": [
       "<Figure size 432x432 with 1 Axes>"
      ]
     },
     "metadata": {
      "image/png": {
       "height": 372,
       "width": 388
      },
      "needs_background": "light"
     },
     "output_type": "display_data"
    }
   ],
   "source": [
    "lasso_alpha_plots(alpha_vector, X_train, y_train, X_valid, y_valid)"
   ]
  },
  {
   "cell_type": "markdown",
   "metadata": {},
   "source": [
    "From the diagram above, it appears that our optimal alpha is very small. Therefore, changing the range of alphas to loop over."
   ]
  },
  {
   "cell_type": "code",
   "execution_count": 18,
   "metadata": {},
   "outputs": [],
   "source": [
    "alpha_vector = np.linspace(0,1,101)"
   ]
  },
  {
   "cell_type": "code",
   "execution_count": 19,
   "metadata": {},
   "outputs": [
    {
     "data": {
      "image/png": "[encoded data removed]",
      "text/plain": [
       "<Figure size 432x432 with 1 Axes>"
      ]
     },
     "metadata": {
      "image/png": {
       "height": 372,
       "width": 386
      },
      "needs_background": "light"
     },
     "output_type": "display_data"
    }
   ],
   "source": [
    "lasso_alpha_plots(alpha_vector, X_train, y_train, X_valid, y_valid)"
   ]
  },
  {
   "cell_type": "markdown",
   "metadata": {},
   "source": [
    "While the training RMSE appears to increase monotonically before plateauing, there appears to be a minimum point for the validation RMSE. Let's adjust our alpha vector and take a closer look. "
   ]
  },
  {
   "cell_type": "code",
   "execution_count": 20,
   "metadata": {},
   "outputs": [],
   "source": [
    "alpha_vector = np.linspace(0,0.1,101)"
   ]
  },
  {
   "cell_type": "code",
   "execution_count": 21,
   "metadata": {},
   "outputs": [
    {
     "data": {
      "image/png": "[encoded data removed]",
      "text/plain": [
       "<Figure size 432x432 with 1 Axes>"
      ]
     },
     "metadata": {
      "image/png": {
       "height": 372,
       "width": 389
      },
      "needs_background": "light"
     },
     "output_type": "display_data"
    }
   ],
   "source": [
    "lasso_rmse_train, lasso_rmse_valid = lasso_alpha_plots(alpha_vector, X_train, y_train, X_valid, y_valid, return_series=True)"
   ]
  },
  {
   "cell_type": "code",
   "execution_count": 22,
   "metadata": {},
   "outputs": [
    {
     "data": {
      "text/plain": [
       "Float64Index([0.005], dtype='float64')"
      ]
     },
     "execution_count": 22,
     "metadata": {},
     "output_type": "execute_result"
    }
   ],
   "source": [
    "# Taking a look at the alpha that corresponds to the lowest RMSE\n",
    "lasso_rmse_valid.nsmallest(n=1).index"
   ]
  },
  {
   "cell_type": "markdown",
   "metadata": {},
   "source": [
    "Now that we have a rough idea what our optimal alpha should be, we can use a GridSearch to find the optimal alpha as well as other parameters. We cannot use the alpha taken from the above analysis as there was no cross validation done during the process."
   ]
  },
  {
   "cell_type": "markdown",
   "metadata": {},
   "source": [
    "#### Grid Search Cross Validation for Optimal Alpha"
   ]
  },
  {
   "cell_type": "code",
   "execution_count": 23,
   "metadata": {},
   "outputs": [],
   "source": [
    "gs_alpha_vector = np.linspace(0.001, 0.01, 10)"
   ]
  },
  {
   "cell_type": "code",
   "execution_count": 24,
   "metadata": {},
   "outputs": [],
   "source": [
    "# Lasso Model Pipeline\n",
    "lasso_pipe = Pipeline(steps=[('Standardise', StandardScaler()),\n",
    "                             ('Lasso', Lasso(random_state=SEED)\n",
    "                             )])\n",
    "\n",
    "# Parameters to tune\n",
    "parameters_lasso = {'Lasso__alpha' : gs_alpha_vector,\n",
    "                    'Lasso__fit_intercept' : [True, False]}"
   ]
  },
  {
   "cell_type": "code",
   "execution_count": 25,
   "metadata": {},
   "outputs": [
    {
     "data": {
      "text/plain": [
       "GridSearchCV(cv=5, error_score='raise-deprecating',\n",
       "             estimator=Pipeline(memory=None,\n",
       "                                steps=[('Standardise',\n",
       "                                        StandardScaler(copy=True,\n",
       "                                                       with_mean=True,\n",
       "                                                       with_std=True)),\n",
       "                                       ('Lasso',\n",
       "                                        Lasso(alpha=1.0, copy_X=True,\n",
       "                                              fit_intercept=True, max_iter=1000,\n",
       "                                              normalize=False, positive=False,\n",
       "                                              precompute=False,\n",
       "                                              random_state=8888,\n",
       "                                              selection='cyclic', tol=0.0001,\n",
       "                                              warm_start=False))],\n",
       "                                verbose=False),\n",
       "             iid='warn', n_jobs=-1,\n",
       "             param_grid={'Lasso__alpha': array([0.001, 0.002, 0.003, 0.004, 0.005, 0.006, 0.007, 0.008, 0.009,\n",
       "       0.01 ]),\n",
       "                         'Lasso__fit_intercept': [True, False]},\n",
       "             pre_dispatch='2*n_jobs', refit=True, return_train_score=False,\n",
       "             scoring='neg_mean_squared_error', verbose=False)"
      ]
     },
     "execution_count": 25,
     "metadata": {},
     "output_type": "execute_result"
    }
   ],
   "source": [
    "# Defining and fitting the Grid Search estimator\n",
    "gscv_lasso = GridSearchCV(lasso_pipe, parameters_lasso, n_jobs=-1,\n",
    "                          scoring='neg_mean_squared_error', verbose=False, cv=5)\n",
    "\n",
    "gscv_lasso.fit(X_train, y_train)"
   ]
  },
  {
   "cell_type": "code",
   "execution_count": 26,
   "metadata": {},
   "outputs": [
    {
     "data": {
      "text/plain": [
       "{'Lasso__alpha': 0.003, 'Lasso__fit_intercept': True}"
      ]
     },
     "execution_count": 26,
     "metadata": {},
     "output_type": "execute_result"
    }
   ],
   "source": [
    "gscv_lasso.best_params_"
   ]
  },
  {
   "cell_type": "code",
   "execution_count": 28,
   "metadata": {},
   "outputs": [],
   "source": [
    "# Saving the optimal alpha for lasso model\n",
    "alpha_lasso = gscv_lasso.best_params_['Lasso__alpha']"
   ]
  },
  {
   "cell_type": "markdown",
   "metadata": {},
   "source": [
    "#### Lasso Model Results Using Optimal Alpha"
   ]
  },
  {
   "cell_type": "code",
   "execution_count": 31,
   "metadata": {},
   "outputs": [],
   "source": [
    "lasso_rmse, lasso_score, lasso_adj_score = kfold_lasso_model(X_train, y_train, optimal_alpha=alpha_lasso)"
   ]
  },
  {
   "cell_type": "code",
   "execution_count": 41,
   "metadata": {},
   "outputs": [
    {
     "data": {
      "text/plain": [
       "{'Training': [0.11194227701988396,\n",
       "  0.10617099503497701,\n",
       "  0.11277096403544512,\n",
       "  0.11429392040897578,\n",
       "  0.11627403692403727],\n",
       " 'Validation': [0.1274386158774161,\n",
       "  0.17374222984823903,\n",
       "  0.12575163973568615,\n",
       "  0.12216436996214897,\n",
       "  0.11330473051343487]}"
      ]
     },
     "execution_count": 41,
     "metadata": {},
     "output_type": "execute_result"
    }
   ],
   "source": [
    "lasso_rmse"
   ]
  },
  {
   "cell_type": "code",
   "execution_count": 42,
   "metadata": {},
   "outputs": [
    {
     "data": {
      "text/plain": [
       "{'Training': [0.9231749105851258,\n",
       "  0.9293860945394575,\n",
       "  0.922627024090493,\n",
       "  0.9188792671515501,\n",
       "  0.9168949842235427],\n",
       " 'Validation': [0.8974941303704337,\n",
       "  0.8242385632511232,\n",
       "  0.8968458542009843,\n",
       "  0.9103618853066362,\n",
       "  0.9191054204035694]}"
      ]
     },
     "execution_count": 42,
     "metadata": {},
     "output_type": "execute_result"
    }
   ],
   "source": [
    "lasso_score"
   ]
  },
  {
   "cell_type": "code",
   "execution_count": 43,
   "metadata": {},
   "outputs": [
    {
     "data": {
      "text/plain": [
       "{'Training': [0.923092035084948,\n",
       "  0.9293099193891372,\n",
       "  0.922543557554657,\n",
       "  0.9187917577016971,\n",
       "  0.9168053342172463],\n",
       " 'Validation': [0.8970503704445371,\n",
       "  0.8234776713877692,\n",
       "  0.8963992878115558,\n",
       "  0.9099738314002834,\n",
       "  0.9187552182856138]}"
      ]
     },
     "execution_count": 43,
     "metadata": {},
     "output_type": "execute_result"
    }
   ],
   "source": [
    "lasso_adj_score"
   ]
  },
  {
   "cell_type": "code",
   "execution_count": 40,
   "metadata": {},
   "outputs": [
    {
     "name": "stdout",
     "output_type": "stream",
     "text": [
      "              Lasso Regression Results Summary\n",
      "=============================================================\n",
      "\t\t Mean RMSE \t Mean R^2 \t Mean Adj R^2\n",
      "Training \t 0.1123 \t 0.9222 \t 0.9221\n",
      "Validation \t 0.1325 \t 0.8896 \t 0.8891\n"
     ]
    }
   ],
   "source": [
    "model_results_summary(lasso_rmse, lasso_score, lasso_adj_score, model_type='Lasso Regression')"
   ]
  },
  {
   "cell_type": "markdown",
   "metadata": {},
   "source": [
    "### Ridge Regression Model"
   ]
  },
  {
   "cell_type": "markdown",
   "metadata": {},
   "source": [
    "#### Investigating how RMSE changes as Alpha changes"
   ]
  },
  {
   "cell_type": "code",
   "execution_count": 201,
   "metadata": {},
   "outputs": [],
   "source": [
    "alpha_vector = 10**np.linspace(-3,3,100)"
   ]
  },
  {
   "cell_type": "code",
   "execution_count": 203,
   "metadata": {},
   "outputs": [
    {
     "data": {
      "image/png": "[encoded data removed]",
      "text/plain": [
       "<Figure size 432x432 with 1 Axes>"
      ]
     },
     "metadata": {
      "image/png": {
       "height": 372,
       "width": 397
      },
      "needs_background": "light"
     },
     "output_type": "display_data"
    }
   ],
   "source": [
    "ridge_rmse_train, ridge_rmse_valid = ridge_alpha_plots(alpha_vector, X_train, y_train, X_valid, y_valid, return_series=True)"
   ]
  },
  {
   "cell_type": "code",
   "execution_count": 204,
   "metadata": {},
   "outputs": [
    {
     "data": {
      "text/plain": [
       "Float64Index([0.001], dtype='float64')"
      ]
     },
     "execution_count": 204,
     "metadata": {},
     "output_type": "execute_result"
    }
   ],
   "source": [
    "ridge_rmse_train.nsmallest(n=1).index"
   ]
  },
  {
   "cell_type": "code",
   "execution_count": 205,
   "metadata": {},
   "outputs": [
    {
     "data": {
      "text/plain": [
       "Float64Index([327.4549162877732], dtype='float64')"
      ]
     },
     "execution_count": 205,
     "metadata": {},
     "output_type": "execute_result"
    }
   ],
   "source": [
    "ridge_rmse_valid.nsmallest(n=1).index"
   ]
  },
  {
   "cell_type": "markdown",
   "metadata": {},
   "source": [
    "Minimum point for validation RMSE is alpha = 327. Lets take a closer look at the plot over a smaller range. "
   ]
  },
  {
   "cell_type": "code",
   "execution_count": 251,
   "metadata": {},
   "outputs": [],
   "source": [
    "alpha_vector = np.arange(200,500, step=10)"
   ]
  },
  {
   "cell_type": "code",
   "execution_count": 252,
   "metadata": {},
   "outputs": [
    {
     "data": {
      "image/png": "[encoded data removed]",
      "text/plain": [
       "<Figure size 432x432 with 1 Axes>"
      ]
     },
     "metadata": {
      "image/png": {
       "height": 372,
       "width": 386
      },
      "needs_background": "light"
     },
     "output_type": "display_data"
    }
   ],
   "source": [
    "ridge_rmse_train, ridge_rmse_valid = ridge_alpha_plots(alpha_vector, X_train, y_train, X_valid, y_valid, return_series=True)"
   ]
  },
  {
   "cell_type": "code",
   "execution_count": 254,
   "metadata": {},
   "outputs": [
    {
     "data": {
      "text/plain": [
       "Int64Index([200], dtype='int64')"
      ]
     },
     "execution_count": 254,
     "metadata": {},
     "output_type": "execute_result"
    }
   ],
   "source": [
    "ridge_rmse_train.nsmallest(n=1).index"
   ]
  },
  {
   "cell_type": "code",
   "execution_count": 255,
   "metadata": {},
   "outputs": [
    {
     "data": {
      "text/plain": [
       "Int64Index([340], dtype='int64')"
      ]
     },
     "execution_count": 255,
     "metadata": {},
     "output_type": "execute_result"
    }
   ],
   "source": [
    "ridge_rmse_valid.nsmallest(n=1).index"
   ]
  },
  {
   "cell_type": "markdown",
   "metadata": {},
   "source": [
    "It is hard to tell if an Alpha of 340 is truly the best alpha as the the RMSE is very similar over the entire range and we have not done cross validation. Therefore, it is best to iterate our GridSearch over a larger range of Alphas. \n",
    "\n",
    "As our dataset is small, this is not too much of a concern."
   ]
  },
  {
   "cell_type": "markdown",
   "metadata": {},
   "source": [
    "#### Grid Search Cross Validation for Optimal Alpha"
   ]
  },
  {
   "cell_type": "code",
   "execution_count": 256,
   "metadata": {},
   "outputs": [],
   "source": [
    "alpha_vector = np.arange(200, 501, step=1)"
   ]
  },
  {
   "cell_type": "code",
   "execution_count": 257,
   "metadata": {},
   "outputs": [],
   "source": [
    "# Ridge pipeline for Grid Search\n",
    "ridge_pipe = Pipeline(steps=[('Standardise', StandardScaler()),\n",
    "                             ('Ridge', Ridge(random_state=SEED))\n",
    "                            ])\n",
    "\n",
    "# Ridge paramters to tune \n",
    "parameters_ridge = {'Ridge__alpha' : alpha_vector,\n",
    "                    'Ridge__fit_intercept' : [True, False]}"
   ]
  },
  {
   "cell_type": "code",
   "execution_count": 258,
   "metadata": {},
   "outputs": [
    {
     "data": {
      "text/plain": [
       "GridSearchCV(cv=5, error_score='raise-deprecating',\n",
       "             estimator=Pipeline(memory=None,\n",
       "                                steps=[('Standardise',\n",
       "                                        StandardScaler(copy=True,\n",
       "                                                       with_mean=True,\n",
       "                                                       with_std=True)),\n",
       "                                       ('Ridge',\n",
       "                                        Ridge(alpha=1.0, copy_X=True,\n",
       "                                              fit_intercept=True, max_iter=None,\n",
       "                                              normalize=False,\n",
       "                                              random_state=8888, solver='auto',\n",
       "                                              tol=0.001))],\n",
       "                                verbose=False),\n",
       "             iid='warn', n_jobs=-1,\n",
       "             param_grid={'Ridge__alph...\n",
       "       447, 448, 449, 450, 451, 452, 453, 454, 455, 456, 457, 458, 459,\n",
       "       460, 461, 462, 463, 464, 465, 466, 467, 468, 469, 470, 471, 472,\n",
       "       473, 474, 475, 476, 477, 478, 479, 480, 481, 482, 483, 484, 485,\n",
       "       486, 487, 488, 489, 490, 491, 492, 493, 494, 495, 496, 497, 498,\n",
       "       499, 500]),\n",
       "                         'Ridge__fit_intercept': [True, False]},\n",
       "             pre_dispatch='2*n_jobs', refit=True, return_train_score=False,\n",
       "             scoring='neg_mean_squared_error', verbose=False)"
      ]
     },
     "execution_count": 258,
     "metadata": {},
     "output_type": "execute_result"
    }
   ],
   "source": [
    "# Defining and fitting the Grid Search estimator\n",
    "gscv_ridge = GridSearchCV(ridge_pipe, parameters_ridge, n_jobs=-1,\n",
    "                          scoring='neg_mean_squared_error', verbose=False, cv=5)\n",
    "\n",
    "gscv_ridge.fit(X_train, y_train)"
   ]
  },
  {
   "cell_type": "code",
   "execution_count": 259,
   "metadata": {},
   "outputs": [
    {
     "data": {
      "text/plain": [
       "{'Ridge__alpha': 223, 'Ridge__fit_intercept': True}"
      ]
     },
     "execution_count": 259,
     "metadata": {},
     "output_type": "execute_result"
    }
   ],
   "source": [
    "gscv_ridge.best_params_"
   ]
  },
  {
   "cell_type": "code",
   "execution_count": 260,
   "metadata": {},
   "outputs": [],
   "source": [
    "ridge_alpha = gscv_ridge.best_params_['Ridge__alpha']"
   ]
  },
  {
   "cell_type": "markdown",
   "metadata": {},
   "source": [
    "#### Ridge Model Using Optimal Alpha"
   ]
  },
  {
   "cell_type": "code",
   "execution_count": 261,
   "metadata": {},
   "outputs": [],
   "source": [
    "ridge_rmse, ridge_score, ridge_adj_score = kfold_ridge_model(X_train, y_train, ridge_alpha)"
   ]
  },
  {
   "cell_type": "code",
   "execution_count": 262,
   "metadata": {},
   "outputs": [
    {
     "data": {
      "text/plain": [
       "{'Training': [0.1122364346598775,\n",
       "  0.10640939265414108,\n",
       "  0.11347208662618345,\n",
       "  0.11437237933516312,\n",
       "  0.11653876151987758],\n",
       " 'Validation': [0.13500151686734452,\n",
       "  0.16578336536869137,\n",
       "  0.12732900249980725,\n",
       "  0.12960432748045014,\n",
       "  0.11884988450225906]}"
      ]
     },
     "execution_count": 262,
     "metadata": {},
     "output_type": "execute_result"
    }
   ],
   "source": [
    "ridge_rmse"
   ]
  },
  {
   "cell_type": "code",
   "execution_count": 263,
   "metadata": {},
   "outputs": [
    {
     "data": {
      "text/plain": [
       "{'Training': [0.9227706240263697,\n",
       "  0.9290686239011117,\n",
       "  0.9216619427391196,\n",
       "  0.9187678556237026,\n",
       "  0.9165161380724884],\n",
       " 'Validation': [0.8849666045596417,\n",
       "  0.8399724652564223,\n",
       "  0.8942418008001524,\n",
       "  0.899111282737224,\n",
       "  0.9109936757648973]}"
      ]
     },
     "execution_count": 263,
     "metadata": {},
     "output_type": "execute_result"
    }
   ],
   "source": [
    "ridge_score"
   ]
  },
  {
   "cell_type": "code",
   "execution_count": 264,
   "metadata": {},
   "outputs": [
    {
     "data": {
      "text/plain": [
       "{'Training': [0.9226873123997775,\n",
       "  0.9289921062775427,\n",
       "  0.9215774351163117,\n",
       "  0.918680225988033,\n",
       "  0.9164260793837616],\n",
       " 'Validation': [0.8844686115059686,\n",
       "  0.8392796872992588,\n",
       "  0.893783961158291,\n",
       "  0.8986745236534941,\n",
       "  0.9106083569535001]}"
      ]
     },
     "execution_count": 264,
     "metadata": {},
     "output_type": "execute_result"
    }
   ],
   "source": [
    "ridge_adj_score"
   ]
  },
  {
   "cell_type": "code",
   "execution_count": 265,
   "metadata": {},
   "outputs": [
    {
     "name": "stdout",
     "output_type": "stream",
     "text": [
      "              Ridge Regression Results Summary\n",
      "=============================================================\n",
      "\t\t Mean RMSE \t Mean R^2 \t Mean Adj R^2\n",
      "Training \t 0.1126 \t 0.9218 \t 0.9217\n",
      "Validation \t 0.1353 \t 0.8859 \t 0.8854\n"
     ]
    }
   ],
   "source": [
    "model_results_summary(ridge_rmse, ridge_score, ridge_adj_score, model_type='Ridge Regression')"
   ]
  },
  {
   "cell_type": "markdown",
   "metadata": {},
   "source": [
    "### Comparing Results"
   ]
  },
  {
   "cell_type": "markdown",
   "metadata": {},
   "source": [
    "#### Linear Model"
   ]
  },
  {
   "cell_type": "code",
   "execution_count": 266,
   "metadata": {},
   "outputs": [
    {
     "name": "stdout",
     "output_type": "stream",
     "text": [
      "              Linear Regression Results Summary\n",
      "=============================================================\n",
      "\t\t Mean RMSE \t Mean R^2 \t Mean Adj R^2\n",
      "Training \t 0.1019 \t 0.9359 \t 0.9358\n",
      "Validation \t 0.1450 \t 0.8685 \t 0.8679\n"
     ]
    }
   ],
   "source": [
    "model_results_summary(linreg_rmse, linreg_score, linreg_adj_score, model_type='Linear Regression')"
   ]
  },
  {
   "cell_type": "markdown",
   "metadata": {},
   "source": [
    "#### Lasso Model"
   ]
  },
  {
   "cell_type": "code",
   "execution_count": 267,
   "metadata": {},
   "outputs": [
    {
     "name": "stdout",
     "output_type": "stream",
     "text": [
      "              Lasso Regression Results Summary\n",
      "=============================================================\n",
      "\t\t Mean RMSE \t Mean R^2 \t Mean Adj R^2\n",
      "Training \t 0.1123 \t 0.9222 \t 0.9221\n",
      "Validation \t 0.1325 \t 0.8896 \t 0.8891\n"
     ]
    }
   ],
   "source": [
    "model_results_summary(lasso_rmse, lasso_score, lasso_adj_score, model_type='Lasso Regression')"
   ]
  },
  {
   "cell_type": "markdown",
   "metadata": {},
   "source": [
    "#### Ridge Model"
   ]
  },
  {
   "cell_type": "code",
   "execution_count": 268,
   "metadata": {},
   "outputs": [
    {
     "name": "stdout",
     "output_type": "stream",
     "text": [
      "              Ridge Regression Results Summary\n",
      "=============================================================\n",
      "\t\t Mean RMSE \t Mean R^2 \t Mean Adj R^2\n",
      "Training \t 0.1126 \t 0.9218 \t 0.9217\n",
      "Validation \t 0.1353 \t 0.8859 \t 0.8854\n"
     ]
    }
   ],
   "source": [
    "model_results_summary(ridge_rmse, ridge_score, ridge_adj_score, model_type='Ridge Regression')"
   ]
  },
  {
   "cell_type": "markdown",
   "metadata": {},
   "source": [
    "From the results above, we can see that regularisation greatly improves the results, with Lasso and Ridge Regressions having lower RMSE scores but higher R Squred as compared to the Linear Model. \n",
    "\n",
    "Comparing Lasso and Ridge, the Lasso Regression Model performs slightly better than the Ridge."
   ]
  },
  {
   "cell_type": "markdown",
   "metadata": {},
   "source": [
    "### Dimensionality Reduction\n",
    "As the Lasso model performed the best, it may suggest that there are alot of redundant variables in our dataset. Therefore, we will do some feature selection using the Lasso model.\n",
    "\n",
    "We will remove the variables that have zero coefficients in the Lasso model and run our models again on the new dataset."
   ]
  },
  {
   "cell_type": "code",
   "execution_count": 170,
   "metadata": {},
   "outputs": [],
   "source": [
    "# Saving the best model from our grid search\n",
    "lasso_model = gscv_lasso.best_estimator_.named_steps['Lasso']"
   ]
  },
  {
   "cell_type": "code",
   "execution_count": 174,
   "metadata": {},
   "outputs": [],
   "source": [
    "# Saving the coefficents of the models as a series with the index as their variable names\n",
    "lasso_coeff = pd.Series(lasso_model.coef_, index=X_train.columns)"
   ]
  },
  {
   "cell_type": "code",
   "execution_count": 179,
   "metadata": {},
   "outputs": [],
   "source": [
    "# Creating a list of variables that have coefficients of zero\n",
    "zero_coeff_vars = lasso_coeff.loc[lasso_coeff == 0].index.to_list()"
   ]
  },
  {
   "cell_type": "code",
   "execution_count": 180,
   "metadata": {},
   "outputs": [],
   "source": [
    "df_lean = df.drop(zero_coeff_vars, axis=1)"
   ]
  },
  {
   "cell_type": "code",
   "execution_count": 359,
   "metadata": {},
   "outputs": [],
   "source": [
    "# Saving New Dataset\n",
    "with open('feature_engineered_dataset.pickle', 'wb') as f:\n",
    "    pickle.dump(df_lean, f)"
   ]
  },
  {
   "cell_type": "code",
   "execution_count": 185,
   "metadata": {},
   "outputs": [
    {
     "name": "stdout",
     "output_type": "stream",
     "text": [
      "Feature Selection Using Lasso Regression\n",
      "========================================\n",
      "Original Dataframe had 167 features.\n",
      "New Dataframe has 82 features.\n",
      "Lasso Regression has removed 85 redundant features.\n"
     ]
    }
   ],
   "source": [
    "print('Feature Selection Using Lasso Regression')\n",
    "print('='*40)\n",
    "print('Original Dataframe had {} features.'.format(df.shape[1]))\n",
    "print('New Dataframe has {} features.'.format(df_lean.shape[1]))\n",
    "print('Lasso Regression has removed {} redundant features.'.format(df.shape[1] - df_lean.shape[1]))"
   ]
  },
  {
   "cell_type": "markdown",
   "metadata": {},
   "source": [
    "#### Splitting Our New Dataset"
   ]
  },
  {
   "cell_type": "code",
   "execution_count": 187,
   "metadata": {},
   "outputs": [],
   "source": [
    "X2 = df_lean.drop('LogSalePrice', axis=1)"
   ]
  },
  {
   "cell_type": "code",
   "execution_count": 188,
   "metadata": {},
   "outputs": [],
   "source": [
    "X2_train, X2_valid, y_train, y_valid = train_test_split(X2 ,y, test_size=0.2, random_state=SEED)"
   ]
  },
  {
   "cell_type": "markdown",
   "metadata": {},
   "source": [
    "### Linear Regression Model Post Feature Selection"
   ]
  },
  {
   "cell_type": "code",
   "execution_count": 344,
   "metadata": {},
   "outputs": [],
   "source": [
    "linreg_rmse2, linreg_score2, linreg_adj_score2 = kfold_linear_model(X2_train, y_train)"
   ]
  },
  {
   "cell_type": "code",
   "execution_count": 345,
   "metadata": {},
   "outputs": [
    {
     "name": "stdout",
     "output_type": "stream",
     "text": [
      "              Linear Regression Results Summary\n",
      "=============================================================\n",
      "\t\t Mean RMSE \t Mean R^2 \t Mean Adj R^2\n",
      "Training \t 0.1104 \t 0.9248 \t 0.9247\n",
      "Validation \t 0.1255 \t 0.9018 \t 0.9014\n"
     ]
    }
   ],
   "source": [
    "model_results_summary(linreg_rmse2, linreg_score2, linreg_adj_score2, model_type='Linear Regression')"
   ]
  },
  {
   "cell_type": "markdown",
   "metadata": {},
   "source": [
    "### Lasso Regression Model Post Feature Selection"
   ]
  },
  {
   "cell_type": "code",
   "execution_count": 321,
   "metadata": {},
   "outputs": [],
   "source": [
    "alpha_vector = 10**np.linspace(-3,2,100)"
   ]
  },
  {
   "cell_type": "code",
   "execution_count": 322,
   "metadata": {},
   "outputs": [
    {
     "data": {
      "image/png": "[encoded data removed]",
      "text/plain": [
       "<Figure size 432x432 with 1 Axes>"
      ]
     },
     "metadata": {
      "image/png": {
       "height": 372,
       "width": 388
      },
      "needs_background": "light"
     },
     "output_type": "display_data"
    }
   ],
   "source": [
    "lasso_rmse_train, lasso_rmse_valid = lasso_alpha_plots(alpha_vector, X2_train, y_train, X2_valid, y_valid, return_series=True)"
   ]
  },
  {
   "cell_type": "code",
   "execution_count": 324,
   "metadata": {},
   "outputs": [],
   "source": [
    "alpha_vector = np.linspace(0,0.1,101)"
   ]
  },
  {
   "cell_type": "code",
   "execution_count": 325,
   "metadata": {},
   "outputs": [
    {
     "data": {
      "image/png": "[encoded data removed]",
      "text/plain": [
       "<Figure size 432x432 with 1 Axes>"
      ]
     },
     "metadata": {
      "image/png": {
       "height": 372,
       "width": 389
      },
      "needs_background": "light"
     },
     "output_type": "display_data"
    }
   ],
   "source": [
    "lasso_rmse_train, lasso_rmse_valid = lasso_alpha_plots(alpha_vector, X2_train, y_train, X2_valid, y_valid, return_series=True)"
   ]
  },
  {
   "cell_type": "code",
   "execution_count": 326,
   "metadata": {},
   "outputs": [],
   "source": [
    "gs_alpha_vector = np.linspace(0.001, 0.01, 10)"
   ]
  },
  {
   "cell_type": "code",
   "execution_count": 328,
   "metadata": {},
   "outputs": [],
   "source": [
    "# Lasso Model Pipeline\n",
    "lasso_pipe = Pipeline(steps=[('Standardise', StandardScaler()),\n",
    "                             ('Lasso', Lasso(random_state=SEED)\n",
    "                             )])\n",
    "\n",
    "# Parameters to tune\n",
    "parameters_lasso = {'Lasso__alpha' : gs_alpha_vector,\n",
    "                    'Lasso__fit_intercept' : [True, False]}"
   ]
  },
  {
   "cell_type": "code",
   "execution_count": 331,
   "metadata": {},
   "outputs": [
    {
     "data": {
      "text/plain": [
       "GridSearchCV(cv=5, error_score='raise-deprecating',\n",
       "             estimator=Pipeline(memory=None,\n",
       "                                steps=[('Standardise',\n",
       "                                        StandardScaler(copy=True,\n",
       "                                                       with_mean=True,\n",
       "                                                       with_std=True)),\n",
       "                                       ('Lasso',\n",
       "                                        Lasso(alpha=1.0, copy_X=True,\n",
       "                                              fit_intercept=True, max_iter=1000,\n",
       "                                              normalize=False, positive=False,\n",
       "                                              precompute=False,\n",
       "                                              random_state=8888,\n",
       "                                              selection='cyclic', tol=0.0001,\n",
       "                                              warm_start=False))],\n",
       "                                verbose=False),\n",
       "             iid='warn', n_jobs=-1,\n",
       "             param_grid={'Lasso__alpha': array([0.001, 0.002, 0.003, 0.004, 0.005, 0.006, 0.007, 0.008, 0.009,\n",
       "       0.01 ]),\n",
       "                         'Lasso__fit_intercept': [True, False]},\n",
       "             pre_dispatch='2*n_jobs', refit=True, return_train_score=False,\n",
       "             scoring='neg_mean_squared_error', verbose=False)"
      ]
     },
     "execution_count": 331,
     "metadata": {},
     "output_type": "execute_result"
    }
   ],
   "source": [
    "# Defining and fitting the Grid Search estimator\n",
    "gscv_lasso = GridSearchCV(lasso_pipe, parameters_lasso, n_jobs=-1,\n",
    "                          scoring='neg_mean_squared_error', verbose=False, cv=5)\n",
    "\n",
    "gscv_lasso.fit(X2_train, y_train)"
   ]
  },
  {
   "cell_type": "code",
   "execution_count": 332,
   "metadata": {},
   "outputs": [
    {
     "data": {
      "text/plain": [
       "{'Lasso__alpha': 0.001, 'Lasso__fit_intercept': True}"
      ]
     },
     "execution_count": 332,
     "metadata": {},
     "output_type": "execute_result"
    }
   ],
   "source": [
    "gscv_lasso.best_params_"
   ]
  },
  {
   "cell_type": "code",
   "execution_count": 333,
   "metadata": {},
   "outputs": [],
   "source": [
    "alpha_lasso = gscv_lasso.best_params_['Lasso__alpha']"
   ]
  },
  {
   "cell_type": "code",
   "execution_count": 334,
   "metadata": {},
   "outputs": [],
   "source": [
    "lasso_rmse2, lasso_score2, lasso_adj_score2 = kfold_lasso_model(X2_train, y_train, optimal_alpha=alpha_lasso)"
   ]
  },
  {
   "cell_type": "code",
   "execution_count": 336,
   "metadata": {},
   "outputs": [
    {
     "name": "stdout",
     "output_type": "stream",
     "text": [
      "              Lasso Regression Results Summary\n",
      "=============================================================\n",
      "\t\t Mean RMSE \t Mean R^2 \t Mean Adj R^2\n",
      "Training \t 0.1107 \t 0.9244 \t 0.9243\n",
      "Validation \t 0.1253 \t 0.9020 \t 0.9016\n"
     ]
    }
   ],
   "source": [
    "model_results_summary(lasso_rmse2, lasso_score2, lasso_adj_score2, model_type='Lasso Regression')"
   ]
  },
  {
   "cell_type": "markdown",
   "metadata": {},
   "source": [
    "### Ridge Regression Model Post Feature Selection"
   ]
  },
  {
   "cell_type": "code",
   "execution_count": 294,
   "metadata": {},
   "outputs": [],
   "source": [
    "alpha_vector = 10**np.linspace(-3,3,100)"
   ]
  },
  {
   "cell_type": "code",
   "execution_count": 295,
   "metadata": {},
   "outputs": [
    {
     "data": {
      "image/png": "[encoded data removed]",
      "text/plain": [
       "<Figure size 432x432 with 1 Axes>"
      ]
     },
     "metadata": {
      "image/png": {
       "height": 372,
       "width": 404
      },
      "needs_background": "light"
     },
     "output_type": "display_data"
    }
   ],
   "source": [
    "ridge_rmse_train, ridge_rmse_valid = ridge_alpha_plots(alpha_vector, X2_train, y_train, X2_valid, y_valid, return_series=True)"
   ]
  },
  {
   "cell_type": "code",
   "execution_count": 227,
   "metadata": {},
   "outputs": [
    {
     "data": {
      "text/plain": [
       "Float64Index([376.49358067924715], dtype='float64')"
      ]
     },
     "execution_count": 227,
     "metadata": {},
     "output_type": "execute_result"
    }
   ],
   "source": [
    "ridge_rmse_valid.nsmallest(n=1).index"
   ]
  },
  {
   "cell_type": "markdown",
   "metadata": {},
   "source": [
    "Our optimal alpha for Ridge Regression seems to have changed. Let's iterate across a smaller range of alphas."
   ]
  },
  {
   "cell_type": "code",
   "execution_count": 296,
   "metadata": {},
   "outputs": [],
   "source": [
    "alpha_vector = np.arange(250, 500, step=10)"
   ]
  },
  {
   "cell_type": "code",
   "execution_count": 297,
   "metadata": {},
   "outputs": [
    {
     "data": {
      "image/png": "[encoded data removed]",
      "text/plain": [
       "<Figure size 432x432 with 1 Axes>"
      ]
     },
     "metadata": {
      "image/png": {
       "height": 372,
       "width": 386
      },
      "needs_background": "light"
     },
     "output_type": "display_data"
    }
   ],
   "source": [
    "ridge_rmse_train, ridge_rmse_valid = ridge_alpha_plots(alpha_vector, X2_train, y_train, X2_valid, y_valid, return_series=True)"
   ]
  },
  {
   "cell_type": "code",
   "execution_count": 298,
   "metadata": {},
   "outputs": [
    {
     "data": {
      "text/plain": [
       "Int64Index([380], dtype='int64')"
      ]
     },
     "execution_count": 298,
     "metadata": {},
     "output_type": "execute_result"
    }
   ],
   "source": [
    "ridge_rmse_valid.nsmallest(n=1).index"
   ]
  },
  {
   "cell_type": "markdown",
   "metadata": {},
   "source": [
    "Once again, we have a rough idea what our optimal alpha should be and we can now use a grid search to determine the optimal alpha with cross validation."
   ]
  },
  {
   "cell_type": "markdown",
   "metadata": {},
   "source": [
    "#### Grid Search Cross Validation for Optimal Alpha"
   ]
  },
  {
   "cell_type": "code",
   "execution_count": 304,
   "metadata": {},
   "outputs": [],
   "source": [
    "alpha_vector = np.arange(300,401,step=5)"
   ]
  },
  {
   "cell_type": "code",
   "execution_count": 305,
   "metadata": {},
   "outputs": [],
   "source": [
    "# Ridge pipeline for Grid Search\n",
    "ridge_pipe = Pipeline(steps=[('Standardise', StandardScaler()),\n",
    "                             ('Ridge', Ridge(random_state=SEED))\n",
    "                            ])\n",
    "\n",
    "# Ridge paramters to tune \n",
    "parameters_ridge = {'Ridge__alpha' : alpha_vector,\n",
    "                    'Ridge__fit_intercept' : [True, False]}"
   ]
  },
  {
   "cell_type": "code",
   "execution_count": 306,
   "metadata": {},
   "outputs": [
    {
     "data": {
      "text/plain": [
       "GridSearchCV(cv=5, error_score='raise-deprecating',\n",
       "             estimator=Pipeline(memory=None,\n",
       "                                steps=[('Standardise',\n",
       "                                        StandardScaler(copy=True,\n",
       "                                                       with_mean=True,\n",
       "                                                       with_std=True)),\n",
       "                                       ('Ridge',\n",
       "                                        Ridge(alpha=1.0, copy_X=True,\n",
       "                                              fit_intercept=True, max_iter=None,\n",
       "                                              normalize=False,\n",
       "                                              random_state=8888, solver='auto',\n",
       "                                              tol=0.001))],\n",
       "                                verbose=False),\n",
       "             iid='warn', n_jobs=-1,\n",
       "             param_grid={'Ridge__alpha': array([300, 305, 310, 315, 320, 325, 330, 335, 340, 345, 350, 355, 360,\n",
       "       365, 370, 375, 380, 385, 390, 395, 400]),\n",
       "                         'Ridge__fit_intercept': [True, False]},\n",
       "             pre_dispatch='2*n_jobs', refit=True, return_train_score=False,\n",
       "             scoring='neg_mean_squared_error', verbose=False)"
      ]
     },
     "execution_count": 306,
     "metadata": {},
     "output_type": "execute_result"
    }
   ],
   "source": [
    "# Defining and fitting the Grid Search estimator\n",
    "gscv_ridge = GridSearchCV(ridge_pipe, parameters_ridge, n_jobs=-1,\n",
    "                          scoring='neg_mean_squared_error', verbose=False, cv=5)\n",
    "\n",
    "gscv_ridge.fit(X2_train, y_train)"
   ]
  },
  {
   "cell_type": "code",
   "execution_count": 307,
   "metadata": {},
   "outputs": [
    {
     "data": {
      "text/plain": [
       "{'Ridge__alpha': 300, 'Ridge__fit_intercept': True}"
      ]
     },
     "execution_count": 307,
     "metadata": {},
     "output_type": "execute_result"
    }
   ],
   "source": [
    "gscv_ridge.best_params_"
   ]
  },
  {
   "cell_type": "markdown",
   "metadata": {},
   "source": [
    "As our optimal alpha is the lower end of the range of alphas iterated through, there is a chance that the optimal alpha is actually smaller. Therefore, we will run the Grid Search over a new range of alphas."
   ]
  },
  {
   "cell_type": "code",
   "execution_count": 308,
   "metadata": {},
   "outputs": [],
   "source": [
    "alpha_vector = np.arange(0,301,step=5)"
   ]
  },
  {
   "cell_type": "code",
   "execution_count": 309,
   "metadata": {},
   "outputs": [],
   "source": [
    "# Ridge pipeline for Grid Search\n",
    "ridge_pipe = Pipeline(steps=[('Standardise', StandardScaler()),\n",
    "                             ('Ridge', Ridge(random_state=SEED))\n",
    "                            ])\n",
    "\n",
    "# Ridge paramters to tune \n",
    "parameters_ridge = {'Ridge__alpha' : alpha_vector,\n",
    "                    'Ridge__fit_intercept' : [True, False]}"
   ]
  },
  {
   "cell_type": "code",
   "execution_count": 310,
   "metadata": {},
   "outputs": [
    {
     "data": {
      "text/plain": [
       "GridSearchCV(cv=5, error_score='raise-deprecating',\n",
       "             estimator=Pipeline(memory=None,\n",
       "                                steps=[('Standardise',\n",
       "                                        StandardScaler(copy=True,\n",
       "                                                       with_mean=True,\n",
       "                                                       with_std=True)),\n",
       "                                       ('Ridge',\n",
       "                                        Ridge(alpha=1.0, copy_X=True,\n",
       "                                              fit_intercept=True, max_iter=None,\n",
       "                                              normalize=False,\n",
       "                                              random_state=8888, solver='auto',\n",
       "                                              tol=0.001))],\n",
       "                                verbose=False),\n",
       "             iid='warn', n_jobs=-1,\n",
       "             param_grid={'Ridge__alph...,  35,  40,  45,  50,  55,  60,\n",
       "        65,  70,  75,  80,  85,  90,  95, 100, 105, 110, 115, 120, 125,\n",
       "       130, 135, 140, 145, 150, 155, 160, 165, 170, 175, 180, 185, 190,\n",
       "       195, 200, 205, 210, 215, 220, 225, 230, 235, 240, 245, 250, 255,\n",
       "       260, 265, 270, 275, 280, 285, 290, 295, 300]),\n",
       "                         'Ridge__fit_intercept': [True, False]},\n",
       "             pre_dispatch='2*n_jobs', refit=True, return_train_score=False,\n",
       "             scoring='neg_mean_squared_error', verbose=False)"
      ]
     },
     "execution_count": 310,
     "metadata": {},
     "output_type": "execute_result"
    }
   ],
   "source": [
    "# Defining and fitting the Grid Search estimator\n",
    "gscv_ridge = GridSearchCV(ridge_pipe, parameters_ridge, n_jobs=-1,\n",
    "                          scoring='neg_mean_squared_error', verbose=False, cv=5)\n",
    "\n",
    "gscv_ridge.fit(X2_train, y_train)"
   ]
  },
  {
   "cell_type": "code",
   "execution_count": 311,
   "metadata": {},
   "outputs": [
    {
     "data": {
      "text/plain": [
       "{'Ridge__alpha': 85, 'Ridge__fit_intercept': True}"
      ]
     },
     "execution_count": 311,
     "metadata": {},
     "output_type": "execute_result"
    }
   ],
   "source": [
    "gscv_ridge.best_params_"
   ]
  },
  {
   "cell_type": "code",
   "execution_count": 313,
   "metadata": {},
   "outputs": [],
   "source": [
    "ridge_alpha = gscv_ridge.best_params_['Ridge__alpha']"
   ]
  },
  {
   "cell_type": "markdown",
   "metadata": {},
   "source": [
    "#### Fitting Ridge Regression with Optimal Alpha"
   ]
  },
  {
   "cell_type": "code",
   "execution_count": 349,
   "metadata": {},
   "outputs": [],
   "source": [
    "ridge_rmse2, ridge_score2, ridge_adj_score2 = kfold_ridge_model(X2_train, y_train, ridge_alpha)"
   ]
  },
  {
   "cell_type": "code",
   "execution_count": 350,
   "metadata": {},
   "outputs": [
    {
     "name": "stdout",
     "output_type": "stream",
     "text": [
      "              Ridge Regression Results Summary\n",
      "=============================================================\n",
      "\t\t Mean RMSE \t Mean R^2 \t Mean Adj R^2\n",
      "Training \t 0.1116 \t 0.9232 \t 0.9231\n",
      "Validation \t 0.1245 \t 0.9034 \t 0.9030\n"
     ]
    }
   ],
   "source": [
    "model_results_summary(ridge_rmse2, ridge_score2, ridge_adj_score2, model_type='Ridge Regression')"
   ]
  },
  {
   "cell_type": "markdown",
   "metadata": {},
   "source": [
    "### Comparing Results Post Feature Selection"
   ]
  },
  {
   "cell_type": "markdown",
   "metadata": {},
   "source": [
    "### Previous Lasso Model"
   ]
  },
  {
   "cell_type": "code",
   "execution_count": 353,
   "metadata": {},
   "outputs": [
    {
     "name": "stdout",
     "output_type": "stream",
     "text": [
      "              Ridge Regression Results Summary\n",
      "=============================================================\n",
      "\t\t Mean RMSE \t Mean R^2 \t Mean Adj R^2\n",
      "Training \t 0.1123 \t 0.9222 \t 0.9221\n",
      "Validation \t 0.1325 \t 0.8896 \t 0.8891\n"
     ]
    }
   ],
   "source": [
    "model_results_summary(lasso_rmse, lasso_score, lasso_adj_score, model_type='Ridge Regression')"
   ]
  },
  {
   "cell_type": "markdown",
   "metadata": {},
   "source": [
    "### Linear Regression Model"
   ]
  },
  {
   "cell_type": "code",
   "execution_count": 354,
   "metadata": {},
   "outputs": [
    {
     "name": "stdout",
     "output_type": "stream",
     "text": [
      "              Linear Regression Results Summary\n",
      "=============================================================\n",
      "\t\t Mean RMSE \t Mean R^2 \t Mean Adj R^2\n",
      "Training \t 0.1104 \t 0.9248 \t 0.9247\n",
      "Validation \t 0.1255 \t 0.9018 \t 0.9014\n"
     ]
    }
   ],
   "source": [
    "model_results_summary(linreg_rmse2, linreg_score2, linreg_adj_score2, model_type='Linear Regression')"
   ]
  },
  {
   "cell_type": "markdown",
   "metadata": {},
   "source": [
    "### Lasso Regression Model"
   ]
  },
  {
   "cell_type": "code",
   "execution_count": 355,
   "metadata": {},
   "outputs": [
    {
     "name": "stdout",
     "output_type": "stream",
     "text": [
      "              Ridge Regression Results Summary\n",
      "=============================================================\n",
      "\t\t Mean RMSE \t Mean R^2 \t Mean Adj R^2\n",
      "Training \t 0.1107 \t 0.9244 \t 0.9243\n",
      "Validation \t 0.1253 \t 0.9020 \t 0.9016\n"
     ]
    }
   ],
   "source": [
    "model_results_summary(lasso_rmse2, lasso_score2, lasso_adj_score2, model_type='Ridge Regression')"
   ]
  },
  {
   "cell_type": "markdown",
   "metadata": {},
   "source": [
    "### Ridge Regression Model"
   ]
  },
  {
   "cell_type": "code",
   "execution_count": 356,
   "metadata": {},
   "outputs": [
    {
     "name": "stdout",
     "output_type": "stream",
     "text": [
      "              Ridge Regression Results Summary\n",
      "=============================================================\n",
      "\t\t Mean RMSE \t Mean R^2 \t Mean Adj R^2\n",
      "Training \t 0.1116 \t 0.9232 \t 0.9231\n",
      "Validation \t 0.1245 \t 0.9034 \t 0.9030\n"
     ]
    }
   ],
   "source": [
    "model_results_summary(ridge_rmse2, ridge_score2, ridge_adj_score2, model_type='Ridge Regression')"
   ]
  },
  {
   "cell_type": "markdown",
   "metadata": {},
   "source": [
    "After doing feature selection, the model performaces of all three algorithms have improved, with lower Validation RMSE and higher R Squared values. \n",
    "\n",
    "The performance of all three models are relatively close, but the Ridge Regression had marginally better performance post feature selection."
   ]
  },
  {
   "cell_type": "code",
   "execution_count": null,
   "metadata": {},
   "outputs": [],
   "source": []
  }
 ],
 "metadata": {
  "kernelspec": {
   "display_name": "Python 3",
   "language": "python",
   "name": "python3"
  },
  "language_info": {
   "codemirror_mode": {
    "name": "ipython",
    "version": 3
   },
   "file_extension": ".py",
   "mimetype": "text/x-python",
   "name": "python",
   "nbconvert_exporter": "python",
   "pygments_lexer": "ipython3",
   "version": "3.7.0"
  }
 },
 "nbformat": 4,
 "nbformat_minor": 2
}
