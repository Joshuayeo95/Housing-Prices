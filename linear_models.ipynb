{
 "cells": [
  {
   "cell_type": "markdown",
   "metadata": {},
   "source": [
    "#### Importing Libraries"
   ]
  },
  {
   "cell_type": "code",
   "execution_count": 38,
   "metadata": {},
   "outputs": [],
   "source": [
    "# Standard Libraries\n",
    "from scipy import stats\n",
    "import pandas as pd\n",
    "import numpy as np\n",
    "import pickle\n",
    "import time\n",
    "\n",
    "# Visualisation\n",
    "import matplotlib.pyplot as plt \n",
    "import seaborn as sns\n",
    "from matplotlib.offsetbox import AnchoredText\n",
    "%matplotlib inline\n",
    "%config InlineBackend.figure_format = 'retina' # higher resolution plots\n",
    "\n",
    "# Machine Learning\n",
    "from sklearn.preprocessing import StandardScaler\n",
    "from sklearn.metrics import mean_squared_error\n",
    "from sklearn.pipeline import Pipeline\n",
    "\n",
    "from sklearn.model_selection import train_test_split, cross_val_score, KFold, GridSearchCV\n",
    "from sklearn.linear_model import LinearRegression, Ridge, Lasso, ElasticNet, BayesianRidge, LassoLars\n",
    "\n",
    "# Misc\n",
    "pd.set_option('display.max_rows', 100)\n",
    "pd.set_option('display.max_columns', 100)\n",
    "import warnings\n",
    "warnings.filterwarnings('ignore')\n",
    "\n",
    "# Random State #\n",
    "SEED = 8888"
   ]
  },
  {
   "cell_type": "markdown",
   "metadata": {},
   "source": [
    "#### Loading Our Data"
   ]
  },
  {
   "cell_type": "code",
   "execution_count": 2,
   "metadata": {},
   "outputs": [],
   "source": [
    "with open('cleaned_dataset.pickle', 'rb') as f:\n",
    "    df = pickle.load(f)"
   ]
  },
  {
   "cell_type": "code",
   "execution_count": 3,
   "metadata": {},
   "outputs": [
    {
     "data": {
      "text/html": [
       "<div>\n",
       "<style scoped>\n",
       "    .dataframe tbody tr th:only-of-type {\n",
       "        vertical-align: middle;\n",
       "    }\n",
       "\n",
       "    .dataframe tbody tr th {\n",
       "        vertical-align: top;\n",
       "    }\n",
       "\n",
       "    .dataframe thead th {\n",
       "        text-align: right;\n",
       "    }\n",
       "</style>\n",
       "<table border=\"1\" class=\"dataframe\">\n",
       "  <thead>\n",
       "    <tr style=\"text-align: right;\">\n",
       "      <th></th>\n",
       "      <th>LotShape</th>\n",
       "      <th>LandSlope</th>\n",
       "      <th>OverallQual</th>\n",
       "      <th>OverallCond</th>\n",
       "      <th>YearBuilt</th>\n",
       "      <th>RoofStyle</th>\n",
       "      <th>ExterQual</th>\n",
       "      <th>ExterCond</th>\n",
       "      <th>BsmtQual</th>\n",
       "      <th>BsmtCond</th>\n",
       "      <th>BsmtExposure</th>\n",
       "      <th>BsmtFinType1</th>\n",
       "      <th>BsmtFinType2</th>\n",
       "      <th>BsmtUnfSF</th>\n",
       "      <th>TotalBsmtSF</th>\n",
       "      <th>HeatingQC</th>\n",
       "      <th>CentralAir</th>\n",
       "      <th>Electrical</th>\n",
       "      <th>BsmtFullBath</th>\n",
       "      <th>BsmtHalfBath</th>\n",
       "      <th>FullBath</th>\n",
       "      <th>HalfBath</th>\n",
       "      <th>BedroomAbvGr</th>\n",
       "      <th>KitchenAbvGr</th>\n",
       "      <th>KitchenQual</th>\n",
       "      <th>TotRmsAbvGrd</th>\n",
       "      <th>Functional</th>\n",
       "      <th>FireplaceQu</th>\n",
       "      <th>GarageFinish</th>\n",
       "      <th>GarageCars</th>\n",
       "      <th>GarageQual</th>\n",
       "      <th>PavedDrive</th>\n",
       "      <th>YrSold</th>\n",
       "      <th>LogSalePrice</th>\n",
       "      <th>LogLotFrontage</th>\n",
       "      <th>LogLotArea</th>\n",
       "      <th>LogFirstFlrSF</th>\n",
       "      <th>LogGroundArea</th>\n",
       "      <th>MSSubClass_SC160</th>\n",
       "      <th>MSSubClass_SC180</th>\n",
       "      <th>MSSubClass_SC190</th>\n",
       "      <th>MSSubClass_SC20</th>\n",
       "      <th>MSSubClass_SC30</th>\n",
       "      <th>MSSubClass_SC40</th>\n",
       "      <th>MSSubClass_SC45</th>\n",
       "      <th>MSSubClass_SC50</th>\n",
       "      <th>MSSubClass_SC60</th>\n",
       "      <th>MSSubClass_SC70</th>\n",
       "      <th>MSSubClass_SC75</th>\n",
       "      <th>MSSubClass_SC80</th>\n",
       "      <th>...</th>\n",
       "      <th>Exterior2nd_Plywood</th>\n",
       "      <th>Exterior2nd_Stucco</th>\n",
       "      <th>Exterior2nd_VinylSd</th>\n",
       "      <th>Exterior2nd_Wd Sdng</th>\n",
       "      <th>Exterior2nd_Wd Shng</th>\n",
       "      <th>MasVnrType_BrkFace</th>\n",
       "      <th>MasVnrType_None</th>\n",
       "      <th>MasVnrType_Stone</th>\n",
       "      <th>MasVnrArea_VnrArea_Small</th>\n",
       "      <th>MasVnrArea_VnrArea_Medium</th>\n",
       "      <th>MasVnrArea_VnrArea_Large</th>\n",
       "      <th>Foundation_CBlock</th>\n",
       "      <th>Foundation_Other</th>\n",
       "      <th>Foundation_PConc</th>\n",
       "      <th>BsmtFinSF1_BsmtSF_Small</th>\n",
       "      <th>BsmtFinSF1_BsmtSF_Medium</th>\n",
       "      <th>BsmtFinSF1_BsmtSF_Large</th>\n",
       "      <th>BsmtFinSF1_BsmtSF_ExtraLarge</th>\n",
       "      <th>2ndFlrSF_SecondFlr_Small</th>\n",
       "      <th>2ndFlrSF_SecondFlr_Medium</th>\n",
       "      <th>2ndFlrSF_SecondFlr_Large</th>\n",
       "      <th>2ndFlrSF_SecondFlr_ExtraLarge</th>\n",
       "      <th>GarageType_BuiltIn</th>\n",
       "      <th>GarageType_Detchd</th>\n",
       "      <th>GarageType_NoGarage</th>\n",
       "      <th>GarageType_Other</th>\n",
       "      <th>WoodDeckSF_WoodDeckSF_Small</th>\n",
       "      <th>WoodDeckSF_WoodDeckSF_Medium</th>\n",
       "      <th>WoodDeckSF_WoodDeckSF_Large</th>\n",
       "      <th>Fence_GdWo</th>\n",
       "      <th>Fence_MnPrv</th>\n",
       "      <th>Fence_MnWw</th>\n",
       "      <th>Fence_NoFence</th>\n",
       "      <th>MoSold_Aug</th>\n",
       "      <th>MoSold_Dec</th>\n",
       "      <th>MoSold_Feb</th>\n",
       "      <th>MoSold_Jan</th>\n",
       "      <th>MoSold_Jul</th>\n",
       "      <th>MoSold_Jun</th>\n",
       "      <th>MoSold_Mar</th>\n",
       "      <th>MoSold_May</th>\n",
       "      <th>MoSold_Nov</th>\n",
       "      <th>MoSold_Oct</th>\n",
       "      <th>MoSold_Sep</th>\n",
       "      <th>SaleType_New</th>\n",
       "      <th>SaleType_Other</th>\n",
       "      <th>SaleType_WD</th>\n",
       "      <th>SaleCondition_Normal</th>\n",
       "      <th>SaleCondition_Other</th>\n",
       "      <th>SaleCondition_Partial</th>\n",
       "    </tr>\n",
       "  </thead>\n",
       "  <tbody>\n",
       "    <tr>\n",
       "      <th>0</th>\n",
       "      <td>0</td>\n",
       "      <td>0</td>\n",
       "      <td>7</td>\n",
       "      <td>5</td>\n",
       "      <td>2003</td>\n",
       "      <td>0</td>\n",
       "      <td>4</td>\n",
       "      <td>3</td>\n",
       "      <td>4</td>\n",
       "      <td>3</td>\n",
       "      <td>1</td>\n",
       "      <td>6</td>\n",
       "      <td>1</td>\n",
       "      <td>150</td>\n",
       "      <td>856</td>\n",
       "      <td>5</td>\n",
       "      <td>1</td>\n",
       "      <td>1</td>\n",
       "      <td>1</td>\n",
       "      <td>0</td>\n",
       "      <td>2</td>\n",
       "      <td>1</td>\n",
       "      <td>3</td>\n",
       "      <td>1</td>\n",
       "      <td>4</td>\n",
       "      <td>8</td>\n",
       "      <td>1</td>\n",
       "      <td>0</td>\n",
       "      <td>2</td>\n",
       "      <td>2</td>\n",
       "      <td>3</td>\n",
       "      <td>1.0</td>\n",
       "      <td>2008</td>\n",
       "      <td>12.247699</td>\n",
       "      <td>4.189655</td>\n",
       "      <td>9.042040</td>\n",
       "      <td>6.753438</td>\n",
       "      <td>7.444249</td>\n",
       "      <td>0</td>\n",
       "      <td>0</td>\n",
       "      <td>0</td>\n",
       "      <td>0</td>\n",
       "      <td>0</td>\n",
       "      <td>0</td>\n",
       "      <td>0</td>\n",
       "      <td>0</td>\n",
       "      <td>1</td>\n",
       "      <td>0</td>\n",
       "      <td>0</td>\n",
       "      <td>0</td>\n",
       "      <td>...</td>\n",
       "      <td>0</td>\n",
       "      <td>0</td>\n",
       "      <td>1</td>\n",
       "      <td>0</td>\n",
       "      <td>0</td>\n",
       "      <td>1</td>\n",
       "      <td>0</td>\n",
       "      <td>0</td>\n",
       "      <td>1</td>\n",
       "      <td>0</td>\n",
       "      <td>0</td>\n",
       "      <td>0</td>\n",
       "      <td>0</td>\n",
       "      <td>1</td>\n",
       "      <td>0</td>\n",
       "      <td>1</td>\n",
       "      <td>0</td>\n",
       "      <td>0</td>\n",
       "      <td>0</td>\n",
       "      <td>1</td>\n",
       "      <td>0</td>\n",
       "      <td>0</td>\n",
       "      <td>0</td>\n",
       "      <td>0</td>\n",
       "      <td>0</td>\n",
       "      <td>0</td>\n",
       "      <td>0</td>\n",
       "      <td>0</td>\n",
       "      <td>0</td>\n",
       "      <td>0</td>\n",
       "      <td>0</td>\n",
       "      <td>0</td>\n",
       "      <td>1</td>\n",
       "      <td>0</td>\n",
       "      <td>0</td>\n",
       "      <td>1</td>\n",
       "      <td>0</td>\n",
       "      <td>0</td>\n",
       "      <td>0</td>\n",
       "      <td>0</td>\n",
       "      <td>0</td>\n",
       "      <td>0</td>\n",
       "      <td>0</td>\n",
       "      <td>0</td>\n",
       "      <td>0</td>\n",
       "      <td>0</td>\n",
       "      <td>1</td>\n",
       "      <td>1</td>\n",
       "      <td>0</td>\n",
       "      <td>0</td>\n",
       "    </tr>\n",
       "    <tr>\n",
       "      <th>1</th>\n",
       "      <td>0</td>\n",
       "      <td>0</td>\n",
       "      <td>6</td>\n",
       "      <td>8</td>\n",
       "      <td>1976</td>\n",
       "      <td>0</td>\n",
       "      <td>3</td>\n",
       "      <td>3</td>\n",
       "      <td>4</td>\n",
       "      <td>3</td>\n",
       "      <td>4</td>\n",
       "      <td>5</td>\n",
       "      <td>1</td>\n",
       "      <td>284</td>\n",
       "      <td>1262</td>\n",
       "      <td>5</td>\n",
       "      <td>1</td>\n",
       "      <td>1</td>\n",
       "      <td>0</td>\n",
       "      <td>1</td>\n",
       "      <td>2</td>\n",
       "      <td>0</td>\n",
       "      <td>3</td>\n",
       "      <td>1</td>\n",
       "      <td>3</td>\n",
       "      <td>6</td>\n",
       "      <td>1</td>\n",
       "      <td>3</td>\n",
       "      <td>2</td>\n",
       "      <td>2</td>\n",
       "      <td>3</td>\n",
       "      <td>1.0</td>\n",
       "      <td>2007</td>\n",
       "      <td>12.109016</td>\n",
       "      <td>4.394449</td>\n",
       "      <td>9.169623</td>\n",
       "      <td>7.141245</td>\n",
       "      <td>7.140453</td>\n",
       "      <td>0</td>\n",
       "      <td>0</td>\n",
       "      <td>0</td>\n",
       "      <td>1</td>\n",
       "      <td>0</td>\n",
       "      <td>0</td>\n",
       "      <td>0</td>\n",
       "      <td>0</td>\n",
       "      <td>0</td>\n",
       "      <td>0</td>\n",
       "      <td>0</td>\n",
       "      <td>0</td>\n",
       "      <td>...</td>\n",
       "      <td>0</td>\n",
       "      <td>0</td>\n",
       "      <td>0</td>\n",
       "      <td>0</td>\n",
       "      <td>0</td>\n",
       "      <td>0</td>\n",
       "      <td>1</td>\n",
       "      <td>0</td>\n",
       "      <td>0</td>\n",
       "      <td>0</td>\n",
       "      <td>0</td>\n",
       "      <td>1</td>\n",
       "      <td>0</td>\n",
       "      <td>0</td>\n",
       "      <td>0</td>\n",
       "      <td>1</td>\n",
       "      <td>0</td>\n",
       "      <td>0</td>\n",
       "      <td>0</td>\n",
       "      <td>0</td>\n",
       "      <td>0</td>\n",
       "      <td>0</td>\n",
       "      <td>0</td>\n",
       "      <td>0</td>\n",
       "      <td>0</td>\n",
       "      <td>0</td>\n",
       "      <td>0</td>\n",
       "      <td>1</td>\n",
       "      <td>0</td>\n",
       "      <td>0</td>\n",
       "      <td>0</td>\n",
       "      <td>0</td>\n",
       "      <td>1</td>\n",
       "      <td>0</td>\n",
       "      <td>0</td>\n",
       "      <td>0</td>\n",
       "      <td>0</td>\n",
       "      <td>0</td>\n",
       "      <td>0</td>\n",
       "      <td>0</td>\n",
       "      <td>1</td>\n",
       "      <td>0</td>\n",
       "      <td>0</td>\n",
       "      <td>0</td>\n",
       "      <td>0</td>\n",
       "      <td>0</td>\n",
       "      <td>1</td>\n",
       "      <td>1</td>\n",
       "      <td>0</td>\n",
       "      <td>0</td>\n",
       "    </tr>\n",
       "    <tr>\n",
       "      <th>2</th>\n",
       "      <td>1</td>\n",
       "      <td>0</td>\n",
       "      <td>7</td>\n",
       "      <td>5</td>\n",
       "      <td>2001</td>\n",
       "      <td>0</td>\n",
       "      <td>4</td>\n",
       "      <td>3</td>\n",
       "      <td>4</td>\n",
       "      <td>3</td>\n",
       "      <td>2</td>\n",
       "      <td>6</td>\n",
       "      <td>1</td>\n",
       "      <td>434</td>\n",
       "      <td>920</td>\n",
       "      <td>5</td>\n",
       "      <td>1</td>\n",
       "      <td>1</td>\n",
       "      <td>1</td>\n",
       "      <td>0</td>\n",
       "      <td>2</td>\n",
       "      <td>1</td>\n",
       "      <td>3</td>\n",
       "      <td>1</td>\n",
       "      <td>4</td>\n",
       "      <td>6</td>\n",
       "      <td>1</td>\n",
       "      <td>3</td>\n",
       "      <td>2</td>\n",
       "      <td>2</td>\n",
       "      <td>3</td>\n",
       "      <td>1.0</td>\n",
       "      <td>2008</td>\n",
       "      <td>12.317171</td>\n",
       "      <td>4.234107</td>\n",
       "      <td>9.328212</td>\n",
       "      <td>6.825460</td>\n",
       "      <td>7.487734</td>\n",
       "      <td>0</td>\n",
       "      <td>0</td>\n",
       "      <td>0</td>\n",
       "      <td>0</td>\n",
       "      <td>0</td>\n",
       "      <td>0</td>\n",
       "      <td>0</td>\n",
       "      <td>0</td>\n",
       "      <td>1</td>\n",
       "      <td>0</td>\n",
       "      <td>0</td>\n",
       "      <td>0</td>\n",
       "      <td>...</td>\n",
       "      <td>0</td>\n",
       "      <td>0</td>\n",
       "      <td>1</td>\n",
       "      <td>0</td>\n",
       "      <td>0</td>\n",
       "      <td>1</td>\n",
       "      <td>0</td>\n",
       "      <td>0</td>\n",
       "      <td>1</td>\n",
       "      <td>0</td>\n",
       "      <td>0</td>\n",
       "      <td>0</td>\n",
       "      <td>0</td>\n",
       "      <td>1</td>\n",
       "      <td>1</td>\n",
       "      <td>0</td>\n",
       "      <td>0</td>\n",
       "      <td>0</td>\n",
       "      <td>0</td>\n",
       "      <td>1</td>\n",
       "      <td>0</td>\n",
       "      <td>0</td>\n",
       "      <td>0</td>\n",
       "      <td>0</td>\n",
       "      <td>0</td>\n",
       "      <td>0</td>\n",
       "      <td>0</td>\n",
       "      <td>0</td>\n",
       "      <td>0</td>\n",
       "      <td>0</td>\n",
       "      <td>0</td>\n",
       "      <td>0</td>\n",
       "      <td>1</td>\n",
       "      <td>0</td>\n",
       "      <td>0</td>\n",
       "      <td>0</td>\n",
       "      <td>0</td>\n",
       "      <td>0</td>\n",
       "      <td>0</td>\n",
       "      <td>0</td>\n",
       "      <td>0</td>\n",
       "      <td>0</td>\n",
       "      <td>0</td>\n",
       "      <td>1</td>\n",
       "      <td>0</td>\n",
       "      <td>0</td>\n",
       "      <td>1</td>\n",
       "      <td>1</td>\n",
       "      <td>0</td>\n",
       "      <td>0</td>\n",
       "    </tr>\n",
       "    <tr>\n",
       "      <th>3</th>\n",
       "      <td>1</td>\n",
       "      <td>0</td>\n",
       "      <td>7</td>\n",
       "      <td>5</td>\n",
       "      <td>1915</td>\n",
       "      <td>0</td>\n",
       "      <td>3</td>\n",
       "      <td>3</td>\n",
       "      <td>3</td>\n",
       "      <td>4</td>\n",
       "      <td>1</td>\n",
       "      <td>5</td>\n",
       "      <td>1</td>\n",
       "      <td>540</td>\n",
       "      <td>756</td>\n",
       "      <td>4</td>\n",
       "      <td>1</td>\n",
       "      <td>1</td>\n",
       "      <td>1</td>\n",
       "      <td>0</td>\n",
       "      <td>1</td>\n",
       "      <td>0</td>\n",
       "      <td>3</td>\n",
       "      <td>1</td>\n",
       "      <td>4</td>\n",
       "      <td>7</td>\n",
       "      <td>1</td>\n",
       "      <td>4</td>\n",
       "      <td>1</td>\n",
       "      <td>3</td>\n",
       "      <td>3</td>\n",
       "      <td>1.0</td>\n",
       "      <td>2006</td>\n",
       "      <td>11.849405</td>\n",
       "      <td>4.110874</td>\n",
       "      <td>9.164401</td>\n",
       "      <td>6.869014</td>\n",
       "      <td>7.448334</td>\n",
       "      <td>0</td>\n",
       "      <td>0</td>\n",
       "      <td>0</td>\n",
       "      <td>0</td>\n",
       "      <td>0</td>\n",
       "      <td>0</td>\n",
       "      <td>0</td>\n",
       "      <td>0</td>\n",
       "      <td>0</td>\n",
       "      <td>1</td>\n",
       "      <td>0</td>\n",
       "      <td>0</td>\n",
       "      <td>...</td>\n",
       "      <td>0</td>\n",
       "      <td>0</td>\n",
       "      <td>0</td>\n",
       "      <td>0</td>\n",
       "      <td>1</td>\n",
       "      <td>0</td>\n",
       "      <td>1</td>\n",
       "      <td>0</td>\n",
       "      <td>0</td>\n",
       "      <td>0</td>\n",
       "      <td>0</td>\n",
       "      <td>0</td>\n",
       "      <td>0</td>\n",
       "      <td>0</td>\n",
       "      <td>1</td>\n",
       "      <td>0</td>\n",
       "      <td>0</td>\n",
       "      <td>0</td>\n",
       "      <td>0</td>\n",
       "      <td>1</td>\n",
       "      <td>0</td>\n",
       "      <td>0</td>\n",
       "      <td>0</td>\n",
       "      <td>1</td>\n",
       "      <td>0</td>\n",
       "      <td>0</td>\n",
       "      <td>0</td>\n",
       "      <td>0</td>\n",
       "      <td>0</td>\n",
       "      <td>0</td>\n",
       "      <td>0</td>\n",
       "      <td>0</td>\n",
       "      <td>1</td>\n",
       "      <td>0</td>\n",
       "      <td>0</td>\n",
       "      <td>1</td>\n",
       "      <td>0</td>\n",
       "      <td>0</td>\n",
       "      <td>0</td>\n",
       "      <td>0</td>\n",
       "      <td>0</td>\n",
       "      <td>0</td>\n",
       "      <td>0</td>\n",
       "      <td>0</td>\n",
       "      <td>0</td>\n",
       "      <td>0</td>\n",
       "      <td>1</td>\n",
       "      <td>0</td>\n",
       "      <td>0</td>\n",
       "      <td>0</td>\n",
       "    </tr>\n",
       "    <tr>\n",
       "      <th>4</th>\n",
       "      <td>1</td>\n",
       "      <td>0</td>\n",
       "      <td>8</td>\n",
       "      <td>5</td>\n",
       "      <td>2000</td>\n",
       "      <td>0</td>\n",
       "      <td>4</td>\n",
       "      <td>3</td>\n",
       "      <td>4</td>\n",
       "      <td>3</td>\n",
       "      <td>3</td>\n",
       "      <td>6</td>\n",
       "      <td>1</td>\n",
       "      <td>490</td>\n",
       "      <td>1145</td>\n",
       "      <td>5</td>\n",
       "      <td>1</td>\n",
       "      <td>1</td>\n",
       "      <td>1</td>\n",
       "      <td>0</td>\n",
       "      <td>2</td>\n",
       "      <td>1</td>\n",
       "      <td>4</td>\n",
       "      <td>1</td>\n",
       "      <td>4</td>\n",
       "      <td>9</td>\n",
       "      <td>1</td>\n",
       "      <td>3</td>\n",
       "      <td>2</td>\n",
       "      <td>3</td>\n",
       "      <td>3</td>\n",
       "      <td>1.0</td>\n",
       "      <td>2008</td>\n",
       "      <td>12.429220</td>\n",
       "      <td>4.442651</td>\n",
       "      <td>9.565284</td>\n",
       "      <td>7.044033</td>\n",
       "      <td>7.695303</td>\n",
       "      <td>0</td>\n",
       "      <td>0</td>\n",
       "      <td>0</td>\n",
       "      <td>0</td>\n",
       "      <td>0</td>\n",
       "      <td>0</td>\n",
       "      <td>0</td>\n",
       "      <td>0</td>\n",
       "      <td>1</td>\n",
       "      <td>0</td>\n",
       "      <td>0</td>\n",
       "      <td>0</td>\n",
       "      <td>...</td>\n",
       "      <td>0</td>\n",
       "      <td>0</td>\n",
       "      <td>1</td>\n",
       "      <td>0</td>\n",
       "      <td>0</td>\n",
       "      <td>1</td>\n",
       "      <td>0</td>\n",
       "      <td>0</td>\n",
       "      <td>1</td>\n",
       "      <td>0</td>\n",
       "      <td>0</td>\n",
       "      <td>0</td>\n",
       "      <td>0</td>\n",
       "      <td>1</td>\n",
       "      <td>0</td>\n",
       "      <td>1</td>\n",
       "      <td>0</td>\n",
       "      <td>0</td>\n",
       "      <td>0</td>\n",
       "      <td>0</td>\n",
       "      <td>1</td>\n",
       "      <td>0</td>\n",
       "      <td>0</td>\n",
       "      <td>0</td>\n",
       "      <td>0</td>\n",
       "      <td>0</td>\n",
       "      <td>1</td>\n",
       "      <td>0</td>\n",
       "      <td>0</td>\n",
       "      <td>0</td>\n",
       "      <td>0</td>\n",
       "      <td>0</td>\n",
       "      <td>1</td>\n",
       "      <td>0</td>\n",
       "      <td>1</td>\n",
       "      <td>0</td>\n",
       "      <td>0</td>\n",
       "      <td>0</td>\n",
       "      <td>0</td>\n",
       "      <td>0</td>\n",
       "      <td>0</td>\n",
       "      <td>0</td>\n",
       "      <td>0</td>\n",
       "      <td>0</td>\n",
       "      <td>0</td>\n",
       "      <td>0</td>\n",
       "      <td>1</td>\n",
       "      <td>1</td>\n",
       "      <td>0</td>\n",
       "      <td>0</td>\n",
       "    </tr>\n",
       "  </tbody>\n",
       "</table>\n",
       "<p>5 rows × 167 columns</p>\n",
       "</div>"
      ],
      "text/plain": [
       "   LotShape  LandSlope  OverallQual  OverallCond  YearBuilt  RoofStyle  \\\n",
       "0         0          0            7            5       2003          0   \n",
       "1         0          0            6            8       1976          0   \n",
       "2         1          0            7            5       2001          0   \n",
       "3         1          0            7            5       1915          0   \n",
       "4         1          0            8            5       2000          0   \n",
       "\n",
       "   ExterQual  ExterCond  BsmtQual  BsmtCond  BsmtExposure  BsmtFinType1  \\\n",
       "0          4          3         4         3             1             6   \n",
       "1          3          3         4         3             4             5   \n",
       "2          4          3         4         3             2             6   \n",
       "3          3          3         3         4             1             5   \n",
       "4          4          3         4         3             3             6   \n",
       "\n",
       "   BsmtFinType2  BsmtUnfSF  TotalBsmtSF  HeatingQC  CentralAir  Electrical  \\\n",
       "0             1        150          856          5           1           1   \n",
       "1             1        284         1262          5           1           1   \n",
       "2             1        434          920          5           1           1   \n",
       "3             1        540          756          4           1           1   \n",
       "4             1        490         1145          5           1           1   \n",
       "\n",
       "   BsmtFullBath  BsmtHalfBath  FullBath  HalfBath  BedroomAbvGr  KitchenAbvGr  \\\n",
       "0             1             0         2         1             3             1   \n",
       "1             0             1         2         0             3             1   \n",
       "2             1             0         2         1             3             1   \n",
       "3             1             0         1         0             3             1   \n",
       "4             1             0         2         1             4             1   \n",
       "\n",
       "   KitchenQual  TotRmsAbvGrd  Functional  FireplaceQu  GarageFinish  \\\n",
       "0            4             8           1            0             2   \n",
       "1            3             6           1            3             2   \n",
       "2            4             6           1            3             2   \n",
       "3            4             7           1            4             1   \n",
       "4            4             9           1            3             2   \n",
       "\n",
       "   GarageCars  GarageQual  PavedDrive  YrSold  LogSalePrice  LogLotFrontage  \\\n",
       "0           2           3         1.0    2008     12.247699        4.189655   \n",
       "1           2           3         1.0    2007     12.109016        4.394449   \n",
       "2           2           3         1.0    2008     12.317171        4.234107   \n",
       "3           3           3         1.0    2006     11.849405        4.110874   \n",
       "4           3           3         1.0    2008     12.429220        4.442651   \n",
       "\n",
       "   LogLotArea  LogFirstFlrSF  LogGroundArea  MSSubClass_SC160  \\\n",
       "0    9.042040       6.753438       7.444249                 0   \n",
       "1    9.169623       7.141245       7.140453                 0   \n",
       "2    9.328212       6.825460       7.487734                 0   \n",
       "3    9.164401       6.869014       7.448334                 0   \n",
       "4    9.565284       7.044033       7.695303                 0   \n",
       "\n",
       "   MSSubClass_SC180  MSSubClass_SC190  MSSubClass_SC20  MSSubClass_SC30  \\\n",
       "0                 0                 0                0                0   \n",
       "1                 0                 0                1                0   \n",
       "2                 0                 0                0                0   \n",
       "3                 0                 0                0                0   \n",
       "4                 0                 0                0                0   \n",
       "\n",
       "   MSSubClass_SC40  MSSubClass_SC45  MSSubClass_SC50  MSSubClass_SC60  \\\n",
       "0                0                0                0                1   \n",
       "1                0                0                0                0   \n",
       "2                0                0                0                1   \n",
       "3                0                0                0                0   \n",
       "4                0                0                0                1   \n",
       "\n",
       "   MSSubClass_SC70  MSSubClass_SC75  MSSubClass_SC80  ...  \\\n",
       "0                0                0                0  ...   \n",
       "1                0                0                0  ...   \n",
       "2                0                0                0  ...   \n",
       "3                1                0                0  ...   \n",
       "4                0                0                0  ...   \n",
       "\n",
       "   Exterior2nd_Plywood  Exterior2nd_Stucco  Exterior2nd_VinylSd  \\\n",
       "0                    0                   0                    1   \n",
       "1                    0                   0                    0   \n",
       "2                    0                   0                    1   \n",
       "3                    0                   0                    0   \n",
       "4                    0                   0                    1   \n",
       "\n",
       "   Exterior2nd_Wd Sdng  Exterior2nd_Wd Shng  MasVnrType_BrkFace  \\\n",
       "0                    0                    0                   1   \n",
       "1                    0                    0                   0   \n",
       "2                    0                    0                   1   \n",
       "3                    0                    1                   0   \n",
       "4                    0                    0                   1   \n",
       "\n",
       "   MasVnrType_None  MasVnrType_Stone  MasVnrArea_VnrArea_Small  \\\n",
       "0                0                 0                         1   \n",
       "1                1                 0                         0   \n",
       "2                0                 0                         1   \n",
       "3                1                 0                         0   \n",
       "4                0                 0                         1   \n",
       "\n",
       "   MasVnrArea_VnrArea_Medium  MasVnrArea_VnrArea_Large  Foundation_CBlock  \\\n",
       "0                          0                         0                  0   \n",
       "1                          0                         0                  1   \n",
       "2                          0                         0                  0   \n",
       "3                          0                         0                  0   \n",
       "4                          0                         0                  0   \n",
       "\n",
       "   Foundation_Other  Foundation_PConc  BsmtFinSF1_BsmtSF_Small  \\\n",
       "0                 0                 1                        0   \n",
       "1                 0                 0                        0   \n",
       "2                 0                 1                        1   \n",
       "3                 0                 0                        1   \n",
       "4                 0                 1                        0   \n",
       "\n",
       "   BsmtFinSF1_BsmtSF_Medium  BsmtFinSF1_BsmtSF_Large  \\\n",
       "0                         1                        0   \n",
       "1                         1                        0   \n",
       "2                         0                        0   \n",
       "3                         0                        0   \n",
       "4                         1                        0   \n",
       "\n",
       "   BsmtFinSF1_BsmtSF_ExtraLarge  2ndFlrSF_SecondFlr_Small  \\\n",
       "0                             0                         0   \n",
       "1                             0                         0   \n",
       "2                             0                         0   \n",
       "3                             0                         0   \n",
       "4                             0                         0   \n",
       "\n",
       "   2ndFlrSF_SecondFlr_Medium  2ndFlrSF_SecondFlr_Large  \\\n",
       "0                          1                         0   \n",
       "1                          0                         0   \n",
       "2                          1                         0   \n",
       "3                          1                         0   \n",
       "4                          0                         1   \n",
       "\n",
       "   2ndFlrSF_SecondFlr_ExtraLarge  GarageType_BuiltIn  GarageType_Detchd  \\\n",
       "0                              0                   0                  0   \n",
       "1                              0                   0                  0   \n",
       "2                              0                   0                  0   \n",
       "3                              0                   0                  1   \n",
       "4                              0                   0                  0   \n",
       "\n",
       "   GarageType_NoGarage  GarageType_Other  WoodDeckSF_WoodDeckSF_Small  \\\n",
       "0                    0                 0                            0   \n",
       "1                    0                 0                            0   \n",
       "2                    0                 0                            0   \n",
       "3                    0                 0                            0   \n",
       "4                    0                 0                            1   \n",
       "\n",
       "   WoodDeckSF_WoodDeckSF_Medium  WoodDeckSF_WoodDeckSF_Large  Fence_GdWo  \\\n",
       "0                             0                            0           0   \n",
       "1                             1                            0           0   \n",
       "2                             0                            0           0   \n",
       "3                             0                            0           0   \n",
       "4                             0                            0           0   \n",
       "\n",
       "   Fence_MnPrv  Fence_MnWw  Fence_NoFence  MoSold_Aug  MoSold_Dec  MoSold_Feb  \\\n",
       "0            0           0              1           0           0           1   \n",
       "1            0           0              1           0           0           0   \n",
       "2            0           0              1           0           0           0   \n",
       "3            0           0              1           0           0           1   \n",
       "4            0           0              1           0           1           0   \n",
       "\n",
       "   MoSold_Jan  MoSold_Jul  MoSold_Jun  MoSold_Mar  MoSold_May  MoSold_Nov  \\\n",
       "0           0           0           0           0           0           0   \n",
       "1           0           0           0           0           1           0   \n",
       "2           0           0           0           0           0           0   \n",
       "3           0           0           0           0           0           0   \n",
       "4           0           0           0           0           0           0   \n",
       "\n",
       "   MoSold_Oct  MoSold_Sep  SaleType_New  SaleType_Other  SaleType_WD  \\\n",
       "0           0           0             0               0            1   \n",
       "1           0           0             0               0            1   \n",
       "2           0           1             0               0            1   \n",
       "3           0           0             0               0            1   \n",
       "4           0           0             0               0            1   \n",
       "\n",
       "   SaleCondition_Normal  SaleCondition_Other  SaleCondition_Partial  \n",
       "0                     1                    0                      0  \n",
       "1                     1                    0                      0  \n",
       "2                     1                    0                      0  \n",
       "3                     0                    0                      0  \n",
       "4                     1                    0                      0  \n",
       "\n",
       "[5 rows x 167 columns]"
      ]
     },
     "execution_count": 3,
     "metadata": {},
     "output_type": "execute_result"
    }
   ],
   "source": [
    "df.head()"
   ]
  },
  {
   "cell_type": "markdown",
   "metadata": {},
   "source": [
    "#### Splitting our Dataset"
   ]
  },
  {
   "cell_type": "code",
   "execution_count": 4,
   "metadata": {},
   "outputs": [],
   "source": [
    "X = df.drop('LogSalePrice', axis=1)\n",
    "y = df.LogSalePrice"
   ]
  },
  {
   "cell_type": "code",
   "execution_count": 5,
   "metadata": {},
   "outputs": [],
   "source": [
    "X_train, X_valid, y_train, y_valid = train_test_split(X ,y, test_size=0.2, random_state=SEED)"
   ]
  },
  {
   "cell_type": "markdown",
   "metadata": {},
   "source": [
    "#### Defining Functions"
   ]
  },
  {
   "cell_type": "code",
   "execution_count": 44,
   "metadata": {},
   "outputs": [],
   "source": [
    "def adj_r_square(X, model_r2):\n",
    "    '''\n",
    "    Calculates the adjusted R-Square of the model.\n",
    "    \n",
    "    :params:\n",
    "        X (array): Array of independent variables' values.\n",
    "        model_r2 (float): R-Square of the model fitted on the same array x as the independent variables.\n",
    "        \n",
    "    :returns:\n",
    "        adj_r2 (float): Adjusted R-Square of the model fitted. \n",
    "        \n",
    "    '''\n",
    "    n = X[:].size # Number of observations #\n",
    "    k = X[0].size # Number of parameters # \n",
    "    adj_r2 = 1 - (1-model_r2) * ((n-1)/(n-k-1))\n",
    "    \n",
    "    return adj_r2"
   ]
  },
  {
   "cell_type": "code",
   "execution_count": 49,
   "metadata": {},
   "outputs": [],
   "source": [
    "def linear_model_rmse(X, y, cv=5):\n",
    "    '''\n",
    "    Function that performs cross validation and returns the RMSE of the training and validation datasets.\n",
    "    \n",
    "    :returns:\n",
    "        training_rmse : List of training RMSE scores.\n",
    "        validation_rmse : List of validation RMSE scores.\n",
    "        \n",
    "    '''\n",
    "    # Lists to store our results\n",
    "    training_rmse = []\n",
    "    validation_rmse = []\n",
    "    \n",
    "    training_r2 = []\n",
    "    validation_r2 = []\n",
    "    \n",
    "    training_adj_r2 = []\n",
    "    validation_adj_r2 = []\n",
    "    \n",
    "    # Converting data into ndarrays\n",
    "    X = np.array(X)\n",
    "    y = np.array(y)\n",
    "    \n",
    "    model = LinearRegression(fit_intercept=True, n_jobs=-1)\n",
    "    \n",
    "    kf = KFold(n_splits=cv, shuffle=True, random_state=SEED)\n",
    "    \n",
    "    for train_index, valid_index in kf.split(X, y):\n",
    "        X_train, y_train = X[train_index], y[train_index]\n",
    "        X_valid, y_valid = X[valid_index], y[valid_index]\n",
    "        \n",
    "        model.fit(X_train, y_train)\n",
    "        \n",
    "        # Saving RMSE\n",
    "        train_resid = y_train - model.predict(X_train)\n",
    "        train_rmse = np.sqrt(np.mean(train_resid**2))\n",
    "        training_rmse.append(train_rmse)\n",
    "        \n",
    "        valid_resid = y_valid - model.predict(X_valid)\n",
    "        valid_rmse = np.sqrt(np.mean(valid_resid**2))\n",
    "        validation_rmse.append(valid_rmse)\n",
    "        \n",
    "        # Saving R Squared\n",
    "        train_r_squared = model.score(X_train, y_train)\n",
    "        training_r2.append(train_r_squared)\n",
    "        \n",
    "        valid_r_squared = model.score(X_valid, y_valid)\n",
    "        validation_r2.append(valid_r_squared)\n",
    "        \n",
    "        # Saving Adjusted R Squared\n",
    "        training_adj_r2.append(adj_r_square(X_train, train_r_squared))\n",
    "        validation_adj_r2.append(adj_r_square(X_valid, valid_r_squared))\n",
    "    \n",
    "    RMSE = {'Training' : training_rmse,\n",
    "            'Validation' : validation_rmse}\n",
    "    \n",
    "    R_Squared = {'Training' : training_r2,\n",
    "                 'Validation' : validation_r2}\n",
    "    \n",
    "    Adj_R_Squared = {'Training' : training_adj_r2,\n",
    "                     'Validation' : validation_adj_r2}\n",
    "    \n",
    "    return RMSE, R_Squared, Adj_R_Squared"
   ]
  },
  {
   "cell_type": "code",
   "execution_count": 85,
   "metadata": {},
   "outputs": [],
   "source": [
    "def linreg_results_summary(RMSE, R_Squared, Adj_R_Squared):\n",
    "    print(' '*13, 'Linear Regression Results Summary')\n",
    "    print('=' * 61)\n",
    "    print('\\t'*2,'Mean RMSE', '\\t', 'Mean R^2', '\\t', 'Mean Adj R^2')\n",
    "    \n",
    "    print('Training',\n",
    "          '\\t', '{:.4f}'.format(np.mean(RMSE['Training'])),\n",
    "          '\\t', '{:.4f}'.format(np.mean(R_Squared['Training'])),\n",
    "          '\\t', '{:.4f}'.format(np.mean(Adj_R_Squared['Training'])))\n",
    "    \n",
    "    print('Validation',\n",
    "          '\\t','{:.4f}'.format(np.mean(RMSE['Validation'])),\n",
    "          '\\t', '{:.4f}'.format(np.mean(R_Squared['Validation'])),\n",
    "          '\\t', '{:.4f}'.format(np.mean(Adj_R_Squared['Validation'])))"
   ]
  },
  {
   "cell_type": "code",
   "execution_count": 101,
   "metadata": {},
   "outputs": [],
   "source": [
    "def lasso_alpha_plots(alphas, X_train, y_train, X_valid, y_valid, fig_size=(6,6), return_series=False):\n",
    "    '''\n",
    "    Function that plots the RMSEs of the training and validation datasets across different alpha values for Lasso Regression.\n",
    "    \n",
    "    :params:\n",
    "        alphas : Vector of different alpha values to try. \n",
    "        \n",
    "    '''\n",
    "    rmse_training = []\n",
    "    rmse_validation = []\n",
    "    \n",
    "    for alpha in alphas:\n",
    "        lasso_pipe = Pipeline(steps=[('Standardise', StandardScaler()),\n",
    "                                     ('Lasso', Lasso(alpha=alpha, random_state=SEED))\n",
    "                                    ])\n",
    "        model = lasso_pipe.fit(X_train, y_train)\n",
    "        \n",
    "        resid_train = y_train - model.predict(X_train)\n",
    "        rmse_train = np.sqrt(np.mean(resid_train**2))\n",
    "        rmse_training.append(rmse_train)\n",
    "        \n",
    "        resid_valid = y_valid - model.predict(X_valid)\n",
    "        rmse_valid = np.sqrt(np.mean(resid_valid**2))\n",
    "        rmse_validation.append(rmse_valid)\n",
    "        \n",
    "    rmse_training = pd.Series(rmse_training, index=alphas)\n",
    "    rmse_validation = pd.Series(rmse_validation, index=alphas)\n",
    "\n",
    "    # Plotting the RMSE Scores \n",
    "    plt.figure(figsize=fig_size)\n",
    "    plt.title('Training and Validation RMSE over different Alphas')\n",
    "    \n",
    "    training_ax = rmse_training.plot(color='blue', grid=True, label='Training RMSE')\n",
    "    validation_ax = rmse_validation.plot(color='red', grid=True, label='Validation RMSE')\n",
    "    \n",
    "    plt.legend(loc='center right')\n",
    "    plt.show()\n",
    "    \n",
    "    if return_series:\n",
    "        return rmse_training, rmse_validation"
   ]
  },
  {
   "cell_type": "code",
   "execution_count": 92,
   "metadata": {},
   "outputs": [],
   "source": [
    "def ridge_alpha_plots(alphas, X_train, y_train, X_valid, y_valid, fig_size=(6,6)):\n",
    "    '''\n",
    "    Function that plots the RMSEs of the training and validation datasets across different alpha values for Ridge Regression.\n",
    "    \n",
    "    :params:\n",
    "        alphas : Vector of different alpha values to try. \n",
    "        \n",
    "    '''\n",
    "    rmse_training = []\n",
    "    rmse_validation = []\n",
    "    \n",
    "    for alpha in alphas:\n",
    "        ridge_pipe = Pipeline(steps=[('Standardise', StandardScaler()),\n",
    "                                     ('Ridge', Ridge(alpha=alpha, random_state=SEED))\n",
    "                                    ])\n",
    "        model = ridge_pipe.fit(X_train, y_train)\n",
    "        \n",
    "        resid_train = y_train - model.predict(X_train)\n",
    "        rmse_train = np.sqrt(np.mean(resid_train**2))\n",
    "        rmse_training.append(rmse_train)\n",
    "        \n",
    "        resid_valid = y_valid - model.predict(X_valid)\n",
    "        rmse_valid = np.sqrt(np.mean(resid_valid**2))\n",
    "        rmse_validation.append(rmse_valid)\n",
    "        \n",
    "    rmse_training = pd.Series(rmse_training, index=alphas)\n",
    "    rmse_validation = pd.Series(rmse_validation, index=alphas)\n",
    "\n",
    "    # Plotting the RMSE Scores \n",
    "    plt.figure(figsize=fig_size)\n",
    "    plt.title('Training and Validation RMSE over different Alphas')\n",
    "    \n",
    "    training_ax = rmse_training.plot(color='blue', grid=True, label='Training RMSE')\n",
    "    validation_ax = rmse_validation.plot(color='red', grid=True, label='Validation RMSE')\n",
    "    \n",
    "    plt.legend(loc='center right')\n",
    "    plt.show()"
   ]
  },
  {
   "cell_type": "markdown",
   "metadata": {},
   "source": [
    "### Base Model : Linear Regression"
   ]
  },
  {
   "cell_type": "code",
   "execution_count": 51,
   "metadata": {},
   "outputs": [],
   "source": [
    "linreg_rmse, linreg_score, linreg_adj_score = linear_model_rmse(X_train, y_train)"
   ]
  },
  {
   "cell_type": "code",
   "execution_count": 87,
   "metadata": {},
   "outputs": [
    {
     "name": "stdout",
     "output_type": "stream",
     "text": [
      "              Linear Regression Results Summary\n",
      "=============================================================\n",
      "\t\t Mean RMSE \t Mean R^2 \t Mean Adj R^2\n",
      "Training \t 0.1019 \t 0.9359 \t 0.9358\n",
      "Validation \t 0.1450 \t 0.8685 \t 0.8679\n"
     ]
    }
   ],
   "source": [
    "linreg_results_summary(linreg_rmse, linreg_score, linreg_adj_score)"
   ]
  },
  {
   "cell_type": "code",
   "execution_count": 88,
   "metadata": {},
   "outputs": [
    {
     "data": {
      "text/plain": [
       "{'Training': [0.1008946096268675,\n",
       "  0.09797858399427398,\n",
       "  0.10276900824988268,\n",
       "  0.10366291991688917,\n",
       "  0.1044260954104371],\n",
       " 'Validation': [0.14436562326348357,\n",
       "  0.18311836604946116,\n",
       "  0.12987548753316855,\n",
       "  0.13050226259988285,\n",
       "  0.13715430534578923]}"
      ]
     },
     "execution_count": 88,
     "metadata": {},
     "output_type": "execute_result"
    }
   ],
   "source": [
    "linreg_rmse"
   ]
  },
  {
   "cell_type": "code",
   "execution_count": 53,
   "metadata": {},
   "outputs": [
    {
     "data": {
      "text/plain": [
       "{'Training': [0.9375904961833754,\n",
       "  0.9398631364096985,\n",
       "  0.9357432071047574,\n",
       "  0.9332682550582917,\n",
       "  0.9329683648614795],\n",
       " 'Validation': [0.8684550370658175,\n",
       "  0.8047564835492986,\n",
       "  0.8899693305489523,\n",
       "  0.8977084693298999,\n",
       "  0.8814661944480229]}"
      ]
     },
     "execution_count": 53,
     "metadata": {},
     "output_type": "execute_result"
    }
   ],
   "source": [
    "linreg_score"
   ]
  },
  {
   "cell_type": "code",
   "execution_count": 54,
   "metadata": {},
   "outputs": [
    {
     "data": {
      "text/plain": [
       "{'Training': [0.9375231715777804,\n",
       "  0.9397982634276151,\n",
       "  0.9356738897256098,\n",
       "  0.9331962678106112,\n",
       "  0.9328960541055512],\n",
       " 'Validation': [0.8678855635008919,\n",
       "  0.8039112514791248,\n",
       "  0.8894929948825323,\n",
       "  0.8972656373024847,\n",
       "  0.8809530477086402]}"
      ]
     },
     "execution_count": 54,
     "metadata": {},
     "output_type": "execute_result"
    }
   ],
   "source": [
    "linreg_adj_score"
   ]
  },
  {
   "cell_type": "markdown",
   "metadata": {},
   "source": [
    "### Lassso Regression Model"
   ]
  },
  {
   "cell_type": "markdown",
   "metadata": {},
   "source": [
    "#### Finding Optimal Alpha"
   ]
  },
  {
   "cell_type": "code",
   "execution_count": 93,
   "metadata": {},
   "outputs": [],
   "source": [
    "alpha_vector = 10**np.linspace(-3,2,100)"
   ]
  },
  {
   "cell_type": "code",
   "execution_count": 94,
   "metadata": {},
   "outputs": [
    {
     "data": {
      "image/png": "[encoded data removed]",
      "text/plain": [
       "<Figure size 432x432 with 1 Axes>"
      ]
     },
     "metadata": {
      "image/png": {
       "height": 372,
       "width": 388
      },
      "needs_background": "light"
     },
     "output_type": "display_data"
    }
   ],
   "source": [
    "lasso_alpha_plots(alpha_vector, X_train, y_train, X_valid, y_valid)"
   ]
  },
  {
   "cell_type": "markdown",
   "metadata": {},
   "source": [
    "From the diagram above, it appears that our optimal alpha is very small. Therefore, changing the range of alphas to loop over."
   ]
  },
  {
   "cell_type": "code",
   "execution_count": 95,
   "metadata": {},
   "outputs": [],
   "source": [
    "alpha_vector = np.linspace(0,1,101)"
   ]
  },
  {
   "cell_type": "code",
   "execution_count": 96,
   "metadata": {},
   "outputs": [
    {
     "data": {
      "image/png": "[encoded data removed]",
      "text/plain": [
       "<Figure size 432x432 with 1 Axes>"
      ]
     },
     "metadata": {
      "image/png": {
       "height": 372,
       "width": 386
      },
      "needs_background": "light"
     },
     "output_type": "display_data"
    }
   ],
   "source": [
    "lasso_alpha_plots(alpha_vector, X_train, y_train, X_valid, y_valid)"
   ]
  },
  {
   "cell_type": "markdown",
   "metadata": {},
   "source": [
    "While the training RMSE appears to increase monotonically before plateauing, there appears to be a minimum point for the validation RMSE. Let's adjust our alpha vector and take a closer look. "
   ]
  },
  {
   "cell_type": "code",
   "execution_count": 97,
   "metadata": {},
   "outputs": [],
   "source": [
    "alpha_vector = np.linspace(0,0.1,101)"
   ]
  },
  {
   "cell_type": "code",
   "execution_count": 104,
   "metadata": {},
   "outputs": [
    {
     "data": {
      "image/png": "[encoded data removed]",
      "text/plain": [
       "<Figure size 432x432 with 1 Axes>"
      ]
     },
     "metadata": {
      "image/png": {
       "height": 372,
       "width": 389
      },
      "needs_background": "light"
     },
     "output_type": "display_data"
    }
   ],
   "source": [
    "lasso_rmse_train, lasso_rmse_valid = lasso_alpha_plots(alpha_vector, X_train, y_train, X_valid, y_valid, return_series=True)"
   ]
  },
  {
   "cell_type": "code",
   "execution_count": 105,
   "metadata": {},
   "outputs": [
    {
     "data": {
      "text/plain": [
       "Float64Index([0.005], dtype='float64')"
      ]
     },
     "execution_count": 105,
     "metadata": {},
     "output_type": "execute_result"
    }
   ],
   "source": [
    "# Taking a look at the alpha that corresponds to the lowest RMSE\n",
    "lasso_rmse_valid.nsmallest(n=1).index"
   ]
  },
  {
   "cell_type": "markdown",
   "metadata": {},
   "source": [
    "Now that we have a rough idea what our optimal alpha should be, we can use a GridSearch to find the optimal alpha as well as other parameters. We cannot use the alpha taken from the above analysis as there was no cross validation done during the process."
   ]
  },
  {
   "cell_type": "code",
   "execution_count": 114,
   "metadata": {},
   "outputs": [],
   "source": [
    "gs_alpha_vector = np.linspace(0.001, 0.01, 10)"
   ]
  },
  {
   "cell_type": "code",
   "execution_count": 115,
   "metadata": {},
   "outputs": [],
   "source": [
    "# Lasso Model Pipeline\n",
    "lasso_pipe = Pipeline(steps=[('Standardise', StandardScaler()),\n",
    "                             ('Lasso', Lasso(random_state=SEED)\n",
    "                             )])\n",
    "\n",
    "# Parameters to tune\n",
    "parameters_lasso = {'Lasso__alpha' : gs_alpha_vector,\n",
    "                    'Lasso__fit_intercept' : [True, False]}"
   ]
  },
  {
   "cell_type": "code",
   "execution_count": 116,
   "metadata": {},
   "outputs": [
    {
     "data": {
      "text/plain": [
       "GridSearchCV(cv=5, error_score='raise-deprecating',\n",
       "             estimator=Pipeline(memory=None,\n",
       "                                steps=[('Standardise',\n",
       "                                        StandardScaler(copy=True,\n",
       "                                                       with_mean=True,\n",
       "                                                       with_std=True)),\n",
       "                                       ('Lasso',\n",
       "                                        Lasso(alpha=1.0, copy_X=True,\n",
       "                                              fit_intercept=True, max_iter=1000,\n",
       "                                              normalize=False, positive=False,\n",
       "                                              precompute=False,\n",
       "                                              random_state=8888,\n",
       "                                              selection='cyclic', tol=0.0001,\n",
       "                                              warm_start=False))],\n",
       "                                verbose=False),\n",
       "             iid='warn', n_jobs=-1,\n",
       "             param_grid={'Lasso__alpha': array([0.001, 0.002, 0.003, 0.004, 0.005, 0.006, 0.007, 0.008, 0.009,\n",
       "       0.01 ]),\n",
       "                         'Lasso__fit_intercept': [True, False]},\n",
       "             pre_dispatch='2*n_jobs', refit=True, return_train_score=False,\n",
       "             scoring='neg_mean_squared_error', verbose=False)"
      ]
     },
     "execution_count": 116,
     "metadata": {},
     "output_type": "execute_result"
    }
   ],
   "source": [
    "# Defining and fitting the Grid Search estimator\n",
    "gscv_lasso = GridSearchCV(lasso_pipe, parameters_lasso, n_jobs=-1,\n",
    "                          scoring='neg_mean_squared_error', verbose=False, cv=5)\n",
    "\n",
    "gscv_lasso.fit(X_train, y_train)"
   ]
  },
  {
   "cell_type": "code",
   "execution_count": 117,
   "metadata": {},
   "outputs": [
    {
     "data": {
      "text/plain": [
       "{'Lasso__alpha': 0.003, 'Lasso__fit_intercept': True}"
      ]
     },
     "execution_count": 117,
     "metadata": {},
     "output_type": "execute_result"
    }
   ],
   "source": [
    "gscv_lasso.best_params_"
   ]
  },
  {
   "cell_type": "code",
   "execution_count": 118,
   "metadata": {},
   "outputs": [],
   "source": [
    "# Saving the optimal alpha for lasso model\n",
    "alpha_lasso = gscv_lasso.best_params_['Lasso__alpha']"
   ]
  },
  {
   "cell_type": "code",
   "execution_count": null,
   "metadata": {},
   "outputs": [],
   "source": []
  },
  {
   "cell_type": "code",
   "execution_count": null,
   "metadata": {},
   "outputs": [],
   "source": [
    "lasso_pipe = Pipeline(steps=[('Standardise', StandardScaler()),\n",
    "                             ('Lasso', Lasso(random_state=SEED)\n",
    "                             )])\n",
    "\n",
    "parameters_lasso = {'Lasso__alpha' : alpha_vector,\n",
    "                    'Lasso__fit_intercept' : [True, False]}\n",
    "\n",
    "gscv_lasso = GridSearchCV(lasso_pipe, parameters_lasso, n_jobs=-1,\n",
    "                          scoring='neg_mean_squared_error', verbose=False, cv=5)\n",
    "\n",
    "gscv_lasso_model = gscv_lasso.fit(X_train, y_train)\n",
    "\n",
    "gscv_lasso_model.best_params_"
   ]
  },
  {
   "cell_type": "code",
   "execution_count": null,
   "metadata": {},
   "outputs": [],
   "source": []
  },
  {
   "cell_type": "code",
   "execution_count": null,
   "metadata": {},
   "outputs": [],
   "source": []
  },
  {
   "cell_type": "code",
   "execution_count": 100,
   "metadata": {},
   "outputs": [
    {
     "data": {
      "text/plain": [
       "array([0.    , 0.0001, 0.0002, 0.0003, 0.0004, 0.0005, 0.0006, 0.0007,\n",
       "       0.0008, 0.0009, 0.001 , 0.0011, 0.0012, 0.0013, 0.0014, 0.0015,\n",
       "       0.0016, 0.0017, 0.0018, 0.0019, 0.002 , 0.0021, 0.0022, 0.0023,\n",
       "       0.0024, 0.0025, 0.0026, 0.0027, 0.0028, 0.0029, 0.003 , 0.0031,\n",
       "       0.0032, 0.0033, 0.0034, 0.0035, 0.0036, 0.0037, 0.0038, 0.0039,\n",
       "       0.004 , 0.0041, 0.0042, 0.0043, 0.0044, 0.0045, 0.0046, 0.0047,\n",
       "       0.0048, 0.0049, 0.005 , 0.0051, 0.0052, 0.0053, 0.0054, 0.0055,\n",
       "       0.0056, 0.0057, 0.0058, 0.0059, 0.006 , 0.0061, 0.0062, 0.0063,\n",
       "       0.0064, 0.0065, 0.0066, 0.0067, 0.0068, 0.0069, 0.007 , 0.0071,\n",
       "       0.0072, 0.0073, 0.0074, 0.0075, 0.0076, 0.0077, 0.0078, 0.0079,\n",
       "       0.008 , 0.0081, 0.0082, 0.0083, 0.0084, 0.0085, 0.0086, 0.0087,\n",
       "       0.0088, 0.0089, 0.009 , 0.0091, 0.0092, 0.0093, 0.0094, 0.0095,\n",
       "       0.0096, 0.0097, 0.0098, 0.0099, 0.01  ])"
      ]
     },
     "execution_count": 100,
     "metadata": {},
     "output_type": "execute_result"
    }
   ],
   "source": [
    "np.linspace(0,0.01,101)"
   ]
  },
  {
   "cell_type": "code",
   "execution_count": null,
   "metadata": {},
   "outputs": [],
   "source": []
  },
  {
   "cell_type": "code",
   "execution_count": 19,
   "metadata": {},
   "outputs": [
    {
     "data": {
      "image/png": "[encoded data removed]",
      "text/plain": [
       "<Figure size 432x432 with 1 Axes>"
      ]
     },
     "metadata": {
      "image/png": {
       "height": 372,
       "width": 394
      },
      "needs_background": "light"
     },
     "output_type": "display_data"
    }
   ],
   "source": [
    "ridge_alpha_plots(alpha_vector, X_train, y_train, X_valid, y_valid)"
   ]
  },
  {
   "cell_type": "code",
   "execution_count": null,
   "metadata": {},
   "outputs": [],
   "source": []
  },
  {
   "cell_type": "code",
   "execution_count": null,
   "metadata": {},
   "outputs": [],
   "source": []
  },
  {
   "cell_type": "code",
   "execution_count": null,
   "metadata": {},
   "outputs": [],
   "source": []
  },
  {
   "cell_type": "code",
   "execution_count": null,
   "metadata": {},
   "outputs": [],
   "source": []
  },
  {
   "cell_type": "code",
   "execution_count": null,
   "metadata": {},
   "outputs": [],
   "source": []
  },
  {
   "cell_type": "code",
   "execution_count": null,
   "metadata": {},
   "outputs": [],
   "source": []
  },
  {
   "cell_type": "code",
   "execution_count": null,
   "metadata": {},
   "outputs": [],
   "source": []
  },
  {
   "cell_type": "code",
   "execution_count": null,
   "metadata": {},
   "outputs": [],
   "source": []
  },
  {
   "cell_type": "code",
   "execution_count": 84,
   "metadata": {},
   "outputs": [],
   "source": [
    "alpha_vector = np.linspace(0,100,100)"
   ]
  },
  {
   "cell_type": "code",
   "execution_count": 94,
   "metadata": {},
   "outputs": [],
   "source": [
    "rmse_ridge = []\n",
    "rmse_ridge_train = []\n",
    "\n",
    "for alpha in alpha_vector:\n",
    "    ridge_pipe = Pipeline(steps=[('Standardise', StandardScaler()),\n",
    "                                 ('Ridge', Ridge(alpha=alpha, random_state=SEED))\n",
    "                                ])\n",
    "    model = ridge_pipe.fit(X_train, y_train)\n",
    "    resid = y_valid - model.predict(X_valid)\n",
    "    rmse = np.sqrt(np.mean(resid**2))\n",
    "    rmse_ridge.append(rmse)\n",
    "    \n",
    "    train_resid = y_train - model.predict(X_train)\n",
    "    rmse_train = np.sqrt(np.mean(train_resid**2))\n",
    "    rmse_ridge_train.append(rmse_train)"
   ]
  },
  {
   "cell_type": "code",
   "execution_count": 95,
   "metadata": {},
   "outputs": [],
   "source": [
    "ridge_rmse_scores = pd.Series(rmse_ridge, index=alpha_vector)\n",
    "train_ridge_rmse_scores = pd.Series(rmse_ridge_train, index=alpha_vector)"
   ]
  },
  {
   "cell_type": "code",
   "execution_count": 97,
   "metadata": {},
   "outputs": [
    {
     "data": {
      "text/plain": [
       "<matplotlib.axes._subplots.AxesSubplot at 0x26ad07d0>"
      ]
     },
     "execution_count": 97,
     "metadata": {},
     "output_type": "execute_result"
    },
    {
     "data": {
      "image/png": "[encoded data removed]",
      "text/plain": [
       "<Figure size 432x288 with 1 Axes>"
      ]
     },
     "metadata": {
      "image/png": {
       "height": 250,
       "width": 400
      },
      "needs_background": "light"
     },
     "output_type": "display_data"
    }
   ],
   "source": [
    "ridge_rmse_scores.plot()"
   ]
  },
  {
   "cell_type": "code",
   "execution_count": 98,
   "metadata": {},
   "outputs": [
    {
     "data": {
      "text/plain": [
       "<matplotlib.axes._subplots.AxesSubplot at 0x4e6f530>"
      ]
     },
     "execution_count": 98,
     "metadata": {},
     "output_type": "execute_result"
    },
    {
     "data": {
      "image/png": "[encoded data removed]",
      "text/plain": [
       "<Figure size 432x288 with 1 Axes>"
      ]
     },
     "metadata": {
      "image/png": {
       "height": 250,
       "width": 394
      },
      "needs_background": "light"
     },
     "output_type": "display_data"
    }
   ],
   "source": [
    "train_ridge_rmse_scores.plot()"
   ]
  },
  {
   "cell_type": "code",
   "execution_count": null,
   "metadata": {},
   "outputs": [],
   "source": []
  },
  {
   "cell_type": "code",
   "execution_count": null,
   "metadata": {},
   "outputs": [],
   "source": []
  },
  {
   "cell_type": "code",
   "execution_count": 99,
   "metadata": {},
   "outputs": [],
   "source": [
    "lasso_pipe = Pipeline(steps=[('Standardise', StandardScaler()),\n",
    "                             ('Lasso', Lasso(random_state=SEED)\n",
    "                             )])"
   ]
  },
  {
   "cell_type": "code",
   "execution_count": null,
   "metadata": {},
   "outputs": [],
   "source": []
  },
  {
   "cell_type": "code",
   "execution_count": null,
   "metadata": {},
   "outputs": [],
   "source": []
  },
  {
   "cell_type": "code",
   "execution_count": 57,
   "metadata": {},
   "outputs": [
    {
     "data": {
      "text/plain": [
       "Float64Index([0.001], dtype='float64')"
      ]
     },
     "execution_count": 57,
     "metadata": {},
     "output_type": "execute_result"
    }
   ],
   "source": [
    "ridge_rmse_scores.nsmallest(n=1).index"
   ]
  },
  {
   "cell_type": "code",
   "execution_count": null,
   "metadata": {},
   "outputs": [],
   "source": []
  },
  {
   "cell_type": "code",
   "execution_count": 137,
   "metadata": {},
   "outputs": [],
   "source": [
    "alpha_vector = np.linspace(0,0.1,101)"
   ]
  },
  {
   "cell_type": "code",
   "execution_count": 138,
   "metadata": {},
   "outputs": [],
   "source": []
  },
  {
   "cell_type": "code",
   "execution_count": 139,
   "metadata": {},
   "outputs": [],
   "source": [
    "lasso_pipe = Pipeline(steps=[('Standardise', StandardScaler()),\n",
    "                             ('Lasso', Lasso(random_state=SEED)\n",
    "                             )])\n",
    "\n",
    "parameters_lasso = {'Lasso__alpha' : alpha_vector,\n",
    "                    'Lasso__fit_intercept' : [True, False]}\n",
    "\n",
    "gscv_lasso = GridSearchCV(lasso_pipe, parameters_lasso, n_jobs=-1,\n",
    "                          scoring='neg_mean_squared_error', verbose=False, cv=5)\n",
    "\n",
    "gscv_lasso_model = gscv_lasso.fit(X_train, y_train)\n",
    "\n",
    "gscv_lasso_model.best_params_"
   ]
  },
  {
   "cell_type": "code",
   "execution_count": 140,
   "metadata": {},
   "outputs": [],
   "source": [
    "gscv_lasso = GridSearchCV(lasso_pipe, parameters_lasso, n_jobs=-1,\n",
    "                          scoring='neg_mean_squared_error', verbose=False, cv=5)"
   ]
  },
  {
   "cell_type": "code",
   "execution_count": 141,
   "metadata": {},
   "outputs": [],
   "source": [
    "gscv_lasso_model = gscv_lasso.fit(X_train, y_train)"
   ]
  },
  {
   "cell_type": "code",
   "execution_count": 142,
   "metadata": {},
   "outputs": [
    {
     "data": {
      "text/plain": [
       "{'Lasso__alpha': 0.003, 'Lasso__fit_intercept': True}"
      ]
     },
     "execution_count": 142,
     "metadata": {},
     "output_type": "execute_result"
    }
   ],
   "source": [
    "gscv_lasso_model.best_params_"
   ]
  },
  {
   "cell_type": "code",
   "execution_count": null,
   "metadata": {},
   "outputs": [],
   "source": []
  },
  {
   "cell_type": "code",
   "execution_count": null,
   "metadata": {},
   "outputs": [],
   "source": []
  },
  {
   "cell_type": "code",
   "execution_count": null,
   "metadata": {},
   "outputs": [],
   "source": []
  }
 ],
 "metadata": {
  "kernelspec": {
   "display_name": "Python 3",
   "language": "python",
   "name": "python3"
  },
  "language_info": {
   "codemirror_mode": {
    "name": "ipython",
    "version": 3
   },
   "file_extension": ".py",
   "mimetype": "text/x-python",
   "name": "python",
   "nbconvert_exporter": "python",
   "pygments_lexer": "ipython3",
   "version": "3.7.0"
  }
 },
 "nbformat": 4,
 "nbformat_minor": 2
}
